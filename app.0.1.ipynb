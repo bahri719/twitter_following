{
 "cells": [
  {
   "cell_type": "code",
   "execution_count": 1,
   "metadata": {},
   "outputs": [],
   "source": [
    "from selenium import webdriver\n",
    "from selenium.webdriver.common.by import By\n",
    "from selenium.webdriver.chrome.service import Service\n",
    "from selenium.webdriver import ActionChains\n",
    "from selenium.webdriver.support.ui import WebDriverWait\n",
    "from selenium.webdriver.support import expected_conditions as EC\n",
    "\n",
    "from selenium.webdriver.chrome.options import Options\n",
    "from selenium.webdriver.common.keys import Keys\n",
    "from bs4 import BeautifulSoup\n",
    "\n",
    "import inspect\n",
    "import re\n",
    "import time\n",
    "\n",
    "driver = webdriver.Chrome()\n",
    "driver.get(\"https://x.com/\")\n"
   ]
  },
  {
   "cell_type": "code",
   "execution_count": 2,
   "metadata": {},
   "outputs": [],
   "source": [
    "#  پیدا کردن و کلیک کردن تب تویفیکیشن\n",
    "def press_notification_tab():\n",
    "    notification_tab = driver.find_element(By.CSS_SELECTOR, \"a[href='/notifications']\")\n",
    "    click(notification_tab)"
   ]
  },
  {
   "cell_type": "code",
   "execution_count": 3,
   "metadata": {},
   "outputs": [],
   "source": [
    "def was_the_notifications_loaded(wait_time = 20):\n",
    "    try:\n",
    "        # منتظر ماندن تا یک عنصر خاص به طور کامل بارگذاری شود\n",
    "        element = WebDriverWait(driver, wait_time).until(\n",
    "            EC.presence_of_element_located((By.CSS_SELECTOR, \"div.css-175oi2r[data-testid='cellInnerDiv']\"))\n",
    "        )\n",
    "        return True\n",
    "    except:\n",
    "        print(\"Loading took too much time!\")\n",
    "        return False"
   ]
  },
  {
   "cell_type": "code",
   "execution_count": 4,
   "metadata": {},
   "outputs": [],
   "source": [
    "def was_the_my_post_loaded(wait_time = 20):\n",
    "    try:\n",
    "        # Construct the CSS selector string based on the classes and style\n",
    "        css_selector = \"div.css-146c3p1.r-bcqeeo.r-1ttztb7.r-qvutc0.r-37j5jr.r-a023e6.r-rjixqe.r-16dba41[style='text-overflow: unset; color: rgb(113, 118, 123);']\"\n",
    "\n",
    "        element = WebDriverWait(driver, 10).until(\n",
    "            EC.presence_of_element_located((By.CSS_SELECTOR, css_selector))\n",
    "        )\n",
    "        return True\n",
    "    except:\n",
    "        print(\"Loading took too much time!\")\n",
    "        return False"
   ]
  },
  {
   "cell_type": "code",
   "execution_count": 5,
   "metadata": {},
   "outputs": [],
   "source": [
    "# وقتی در پروفایل کاربر هستیم چک می کند که این کاربر مییوت هست یا خیر\n",
    "#  اگر مییوت باشد درست وگرنه غلط را بر میگرداند\n",
    "def is_muted():\n",
    "    try:\n",
    "        unmute_button = driver.find_element(By.XPATH, \"//button[.//span[text()='Unmute']]\")\n",
    "        return True\n",
    "    except:\n",
    "        return False"
   ]
  },
  {
   "cell_type": "code",
   "execution_count": 6,
   "metadata": {},
   "outputs": [],
   "source": [
    "#  بررسی می کنیم اگر قبلا این کاربر را مییوت نکرده ایم او را فالوو می کنیم\n",
    "def if_user_is_unmute_press_follow_button():\n",
    "    sw = False\n",
    "    if not(is_muted()):\n",
    "        follow_button = driver.find_element(By.XPATH, \"//button[.//span[text()='Follow']]\")\n",
    "        click(follow_button)\n",
    "        sw = True\n",
    "    back_button = driver.find_element(By.CSS_SELECTOR, \"button[aria-label='Back']\")\n",
    "    click(back_button)\n",
    "    return sw  #  نشان میدهد کی فالوو انجام شد یا نشد"
   ]
  },
  {
   "cell_type": "code",
   "execution_count": 7,
   "metadata": {},
   "outputs": [],
   "source": [
    "#  بررسی می کنیم اگر قبلا این کاربر را مییوت نکرده ایم او را فالوو می کنیم\n",
    "def check_and_follow_if_everything_is_ok():\n",
    "    driver.execute_script(\"window.scrollTo(0, 0);\")\n",
    "    unfollower_interactions = driver.find_elements(By.XPATH, \"//div[@class='css-175oi2r' and @data-testid='cellInnerDiv' and .//button[.//span[text()='Follow']]]\")\n",
    "    if(len(unfollower_interactions) > 0):\n",
    "        click(unfollower_interactions[0])\n",
    "        return if_user_is_unmute_press_follow_button()"
   ]
  },
  {
   "cell_type": "code",
   "execution_count": 8,
   "metadata": {},
   "outputs": [],
   "source": [
    "def click(item):\n",
    "    try:\n",
    "        item.click()\n",
    "        time.sleep(3)\n",
    "    except:\n",
    "        {}"
   ]
  },
  {
   "cell_type": "code",
   "execution_count": 9,
   "metadata": {},
   "outputs": [],
   "source": [
    "def main():\n",
    "    press_notification_tab()\n",
    "    #  اسکرول آپ کردن به ابتدای نتیفیکیشن ها\n",
    "    driver.execute_script(\"window.scrollTo(0, 0);\")\n",
    "\n",
    "    if(was_the_notifications_loaded()):\n",
    "        notifications = driver.find_elements(By.CSS_SELECTOR, \"div.css-175oi2r[data-testid='cellInnerDiv']\")\n",
    "        find_sw = False\n",
    "        for index, notification in enumerate(notifications):\n",
    "            article = notification.find_element(By.TAG_NAME, \"article\")\n",
    "            if not(\"r-1eltapf\" in article.get_attribute(\"class\")):\n",
    "                break    #   یعنی به یک نوتیفیکشن غیر هایلایت رسیده ایم و باید کار را متوقف کنیم\n",
    "                \n",
    "            if index >10:\n",
    "                break\n",
    "            discription = notification.find_element(By.CSS_SELECTOR, \"div.css-146c3p1.r-bcqeeo.r-1ttztb7.r-qvutc0.r-37j5jr.r-a023e6.r-rjixqe.r-16dba41.r-1udh08x\")\n",
    "            # print(index, ' - ', discription.text[-9:])\n",
    "            if (discription.text[-9:] == \"your post\" or discription.text[-10:] == \"your reply\"):\n",
    "                find_sw = True\n",
    "                break\n",
    "        if(find_sw):\n",
    "            click(notification)\n",
    "            analyticsButton = driver.find_element(By.CSS_SELECTOR, \"[data-testid='analyticsButton']\")\n",
    "            click(analyticsButton)\n",
    "            \n",
    "            sw_find_new_follower = True\n",
    "            while (sw_find_new_follower):\n",
    "                sw_find_new_follower = False\n",
    "\n",
    "                repostTab = driver.find_element(By.XPATH, \"//a[@role='tab' and .//span[text()='Reposts']]\")\n",
    "                click(repostTab)\n",
    "                if check_and_follow_if_everything_is_ok():\n",
    "                    sw_find_new_follower = True\n",
    "                    \n",
    "            sw_find_new_follower = True\n",
    "            while (sw_find_new_follower):\n",
    "                sw_find_new_follower = False\n",
    "                    \n",
    "                likeTab = driver.find_element(By.XPATH, \"//a[@role='tab' and .//span[text()='Likes']]\")\n",
    "                click(likeTab)\n",
    "                if check_and_follow_if_everything_is_ok():\n",
    "                    sw_find_new_follower = True\n",
    "        \n",
    "        else: #  اگر هیچ عنصری برای لایک یا ریتوییتی وجود نداشته باشد\n",
    "            driver.refresh()\n",
    "            time.sleep(60)\n",
    "            press_notification_tab()\n",
    "    else:  # رفع مشکل اینکه صفحه لود نشود\n",
    "        driver.refresh()\n",
    "        time.sleep(20)\n",
    "        press_notification_tab()"
   ]
  },
  {
   "cell_type": "code",
   "execution_count": 10,
   "metadata": {},
   "outputs": [
    {
     "ename": "NoSuchElementException",
     "evalue": "Message: no such element: Unable to locate element: {\"method\":\"xpath\",\"selector\":\"//a[@role='tab' and .//span[text()='Reposts']]\"}\n  (Session info: chrome=126.0.6478.126); For documentation on this error, please visit: https://www.selenium.dev/documentation/webdriver/troubleshooting/errors#no-such-element-exception\nStacktrace:\n#0 0x56e31230dc7a <unknown>\n#1 0x56e311ff0e2c <unknown>\n#2 0x56e31203d661 <unknown>\n#3 0x56e31203d751 <unknown>\n#4 0x56e312081f64 <unknown>\n#5 0x56e3120605ed <unknown>\n#6 0x56e31207f303 <unknown>\n#7 0x56e312060363 <unknown>\n#8 0x56e312030247 <unknown>\n#9 0x56e312030b9e <unknown>\n#10 0x56e3122d424b <unknown>\n#11 0x56e3122d82f1 <unknown>\n#12 0x56e3122bfafe <unknown>\n#13 0x56e3122d8e52 <unknown>\n#14 0x56e3122a479f <unknown>\n#15 0x56e3122fd638 <unknown>\n#16 0x56e3122fd810 <unknown>\n#17 0x56e31230cdac <unknown>\n#18 0x7f6fea894ac3 <unknown>\n",
     "output_type": "error",
     "traceback": [
      "\u001b[0;31m---------------------------------------------------------------------------\u001b[0m",
      "\u001b[0;31mNoSuchElementException\u001b[0m                    Traceback (most recent call last)",
      "Cell \u001b[0;32mIn[10], line 3\u001b[0m\n\u001b[1;32m      1\u001b[0m \u001b[38;5;28;01mif\u001b[39;00m \u001b[38;5;18m__name__\u001b[39m \u001b[38;5;241m==\u001b[39m \u001b[38;5;124m'\u001b[39m\u001b[38;5;124m__main__\u001b[39m\u001b[38;5;124m'\u001b[39m:\n\u001b[1;32m      2\u001b[0m     \u001b[38;5;28;01mwhile\u001b[39;00m \u001b[38;5;28;01mTrue\u001b[39;00m:\n\u001b[0;32m----> 3\u001b[0m         \u001b[43mmain\u001b[49m\u001b[43m(\u001b[49m\u001b[43m)\u001b[49m\n\u001b[1;32m      4\u001b[0m         time\u001b[38;5;241m.\u001b[39msleep(\u001b[38;5;241m5\u001b[39m)\n",
      "Cell \u001b[0;32mIn[9], line 30\u001b[0m, in \u001b[0;36mmain\u001b[0;34m()\u001b[0m\n\u001b[1;32m     27\u001b[0m \u001b[38;5;28;01mwhile\u001b[39;00m (sw_find_new_follower):\n\u001b[1;32m     28\u001b[0m     sw_find_new_follower \u001b[38;5;241m=\u001b[39m \u001b[38;5;28;01mFalse\u001b[39;00m\n\u001b[0;32m---> 30\u001b[0m     repostTab \u001b[38;5;241m=\u001b[39m \u001b[43mdriver\u001b[49m\u001b[38;5;241;43m.\u001b[39;49m\u001b[43mfind_element\u001b[49m\u001b[43m(\u001b[49m\u001b[43mBy\u001b[49m\u001b[38;5;241;43m.\u001b[39;49m\u001b[43mXPATH\u001b[49m\u001b[43m,\u001b[49m\u001b[43m \u001b[49m\u001b[38;5;124;43m\"\u001b[39;49m\u001b[38;5;124;43m//a[@role=\u001b[39;49m\u001b[38;5;124;43m'\u001b[39;49m\u001b[38;5;124;43mtab\u001b[39;49m\u001b[38;5;124;43m'\u001b[39;49m\u001b[38;5;124;43m and .//span[text()=\u001b[39;49m\u001b[38;5;124;43m'\u001b[39;49m\u001b[38;5;124;43mReposts\u001b[39;49m\u001b[38;5;124;43m'\u001b[39;49m\u001b[38;5;124;43m]]\u001b[39;49m\u001b[38;5;124;43m\"\u001b[39;49m\u001b[43m)\u001b[49m\n\u001b[1;32m     31\u001b[0m     click(repostTab)\n\u001b[1;32m     32\u001b[0m     \u001b[38;5;28;01mif\u001b[39;00m check_and_follow_if_everything_is_ok():\n",
      "File \u001b[0;32m~/Documents/twitter_follow/lib/python3.10/site-packages/selenium/webdriver/remote/webdriver.py:748\u001b[0m, in \u001b[0;36mWebDriver.find_element\u001b[0;34m(self, by, value)\u001b[0m\n\u001b[1;32m    745\u001b[0m     by \u001b[38;5;241m=\u001b[39m By\u001b[38;5;241m.\u001b[39mCSS_SELECTOR\n\u001b[1;32m    746\u001b[0m     value \u001b[38;5;241m=\u001b[39m \u001b[38;5;124mf\u001b[39m\u001b[38;5;124m'\u001b[39m\u001b[38;5;124m[name=\u001b[39m\u001b[38;5;124m\"\u001b[39m\u001b[38;5;132;01m{\u001b[39;00mvalue\u001b[38;5;132;01m}\u001b[39;00m\u001b[38;5;124m\"\u001b[39m\u001b[38;5;124m]\u001b[39m\u001b[38;5;124m'\u001b[39m\n\u001b[0;32m--> 748\u001b[0m \u001b[38;5;28;01mreturn\u001b[39;00m \u001b[38;5;28;43mself\u001b[39;49m\u001b[38;5;241;43m.\u001b[39;49m\u001b[43mexecute\u001b[49m\u001b[43m(\u001b[49m\u001b[43mCommand\u001b[49m\u001b[38;5;241;43m.\u001b[39;49m\u001b[43mFIND_ELEMENT\u001b[49m\u001b[43m,\u001b[49m\u001b[43m \u001b[49m\u001b[43m{\u001b[49m\u001b[38;5;124;43m\"\u001b[39;49m\u001b[38;5;124;43musing\u001b[39;49m\u001b[38;5;124;43m\"\u001b[39;49m\u001b[43m:\u001b[49m\u001b[43m \u001b[49m\u001b[43mby\u001b[49m\u001b[43m,\u001b[49m\u001b[43m \u001b[49m\u001b[38;5;124;43m\"\u001b[39;49m\u001b[38;5;124;43mvalue\u001b[39;49m\u001b[38;5;124;43m\"\u001b[39;49m\u001b[43m:\u001b[49m\u001b[43m \u001b[49m\u001b[43mvalue\u001b[49m\u001b[43m}\u001b[49m\u001b[43m)\u001b[49m[\u001b[38;5;124m\"\u001b[39m\u001b[38;5;124mvalue\u001b[39m\u001b[38;5;124m\"\u001b[39m]\n",
      "File \u001b[0;32m~/Documents/twitter_follow/lib/python3.10/site-packages/selenium/webdriver/remote/webdriver.py:354\u001b[0m, in \u001b[0;36mWebDriver.execute\u001b[0;34m(self, driver_command, params)\u001b[0m\n\u001b[1;32m    352\u001b[0m response \u001b[38;5;241m=\u001b[39m \u001b[38;5;28mself\u001b[39m\u001b[38;5;241m.\u001b[39mcommand_executor\u001b[38;5;241m.\u001b[39mexecute(driver_command, params)\n\u001b[1;32m    353\u001b[0m \u001b[38;5;28;01mif\u001b[39;00m response:\n\u001b[0;32m--> 354\u001b[0m     \u001b[38;5;28;43mself\u001b[39;49m\u001b[38;5;241;43m.\u001b[39;49m\u001b[43merror_handler\u001b[49m\u001b[38;5;241;43m.\u001b[39;49m\u001b[43mcheck_response\u001b[49m\u001b[43m(\u001b[49m\u001b[43mresponse\u001b[49m\u001b[43m)\u001b[49m\n\u001b[1;32m    355\u001b[0m     response[\u001b[38;5;124m\"\u001b[39m\u001b[38;5;124mvalue\u001b[39m\u001b[38;5;124m\"\u001b[39m] \u001b[38;5;241m=\u001b[39m \u001b[38;5;28mself\u001b[39m\u001b[38;5;241m.\u001b[39m_unwrap_value(response\u001b[38;5;241m.\u001b[39mget(\u001b[38;5;124m\"\u001b[39m\u001b[38;5;124mvalue\u001b[39m\u001b[38;5;124m\"\u001b[39m, \u001b[38;5;28;01mNone\u001b[39;00m))\n\u001b[1;32m    356\u001b[0m     \u001b[38;5;28;01mreturn\u001b[39;00m response\n",
      "File \u001b[0;32m~/Documents/twitter_follow/lib/python3.10/site-packages/selenium/webdriver/remote/errorhandler.py:229\u001b[0m, in \u001b[0;36mErrorHandler.check_response\u001b[0;34m(self, response)\u001b[0m\n\u001b[1;32m    227\u001b[0m         alert_text \u001b[38;5;241m=\u001b[39m value[\u001b[38;5;124m\"\u001b[39m\u001b[38;5;124malert\u001b[39m\u001b[38;5;124m\"\u001b[39m]\u001b[38;5;241m.\u001b[39mget(\u001b[38;5;124m\"\u001b[39m\u001b[38;5;124mtext\u001b[39m\u001b[38;5;124m\"\u001b[39m)\n\u001b[1;32m    228\u001b[0m     \u001b[38;5;28;01mraise\u001b[39;00m exception_class(message, screen, stacktrace, alert_text)  \u001b[38;5;66;03m# type: ignore[call-arg]  # mypy is not smart enough here\u001b[39;00m\n\u001b[0;32m--> 229\u001b[0m \u001b[38;5;28;01mraise\u001b[39;00m exception_class(message, screen, stacktrace)\n",
      "\u001b[0;31mNoSuchElementException\u001b[0m: Message: no such element: Unable to locate element: {\"method\":\"xpath\",\"selector\":\"//a[@role='tab' and .//span[text()='Reposts']]\"}\n  (Session info: chrome=126.0.6478.126); For documentation on this error, please visit: https://www.selenium.dev/documentation/webdriver/troubleshooting/errors#no-such-element-exception\nStacktrace:\n#0 0x56e31230dc7a <unknown>\n#1 0x56e311ff0e2c <unknown>\n#2 0x56e31203d661 <unknown>\n#3 0x56e31203d751 <unknown>\n#4 0x56e312081f64 <unknown>\n#5 0x56e3120605ed <unknown>\n#6 0x56e31207f303 <unknown>\n#7 0x56e312060363 <unknown>\n#8 0x56e312030247 <unknown>\n#9 0x56e312030b9e <unknown>\n#10 0x56e3122d424b <unknown>\n#11 0x56e3122d82f1 <unknown>\n#12 0x56e3122bfafe <unknown>\n#13 0x56e3122d8e52 <unknown>\n#14 0x56e3122a479f <unknown>\n#15 0x56e3122fd638 <unknown>\n#16 0x56e3122fd810 <unknown>\n#17 0x56e31230cdac <unknown>\n#18 0x7f6fea894ac3 <unknown>\n"
     ]
    }
   ],
   "source": [
    "if __name__ == '__main__':\n",
    "    while True:\n",
    "        main()\n",
    "        time.sleep(5)"
   ]
  }
 ],
 "metadata": {
  "kernelspec": {
   "display_name": "dev",
   "language": "python",
   "name": "python3"
  },
  "language_info": {
   "codemirror_mode": {
    "name": "ipython",
    "version": 3
   },
   "file_extension": ".py",
   "mimetype": "text/x-python",
   "name": "python",
   "nbconvert_exporter": "python",
   "pygments_lexer": "ipython3",
   "version": "3.10.12"
  }
 },
 "nbformat": 4,
 "nbformat_minor": 2
}
