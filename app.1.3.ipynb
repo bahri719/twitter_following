{
 "cells": [
  {
   "cell_type": "markdown",
   "metadata": {},
   "source": [
    "# initializing and imports"
   ]
  },
  {
   "cell_type": "code",
   "execution_count": 2,
   "metadata": {},
   "outputs": [],
   "source": [
    "from selenium import webdriver\n",
    "from selenium.webdriver.common.by import By\n",
    "from selenium.webdriver.chrome.service import Service\n",
    "from selenium.webdriver import ActionChains\n",
    "from selenium.webdriver.chrome.options import Options\n",
    "from selenium.webdriver.common.keys import Keys\n",
    "from bs4 import BeautifulSoup\n",
    "from datetime import datetime\n",
    "import inspect\n",
    "import re\n",
    "import time\n",
    "\n",
    "\n"
   ]
  },
  {
   "cell_type": "code",
   "execution_count": 84,
   "metadata": {},
   "outputs": [],
   "source": [
    "hunting = 0  #  شیئی گروه برای ارسال پیام های یافت شده\n",
    "previous_messages = []  #  زمان ارسال پیام های قبل برای جلوگیری از ارسال مجدد آن ها\n",
    "sending_messages=[]  #  پیام های یافت شده را در این نگه میداریم تا زمان ارسال و بعد مجددا خالی اش می کنیم\n",
    "# chat_title=''\n",
    "# chat_id=''\n",
    "# timestamp = ''\n",
    "driver = webdriver.Chrome()\n",
    "driver.get(\"https://web.telegram.org/k/\")"
   ]
  },
  {
   "cell_type": "markdown",
   "metadata": {},
   "source": [
    "# Text Processing"
   ]
  },
  {
   "cell_type": "markdown",
   "metadata": {},
   "source": [
    "### text_processing"
   ]
  },
  {
   "cell_type": "code",
   "execution_count": 24,
   "metadata": {},
   "outputs": [],
   "source": [
    "#  تابع پردازش پیام ها\n",
    "def text_processing(text):\n",
    "    if(text == []):\n",
    "        return False\n",
    "    positive_expression =['مشاور','وکیل','منصوری','روادید',]\n",
    "    negetive_expression =['تماس بگیرید','لطفا جهت کسب اطلاعات',\n",
    "                          'خدمات ما شامل', 'لطفا جهت ثبت نام']\n",
    "    for expression in negetive_expression:\n",
    "        if expression in text:\n",
    "            return False\n",
    "        \n",
    "    for expression in positive_expression:\n",
    "        if expression in text:\n",
    "            return True\n"
   ]
  },
  {
   "cell_type": "markdown",
   "metadata": {},
   "source": [
    "### remove_html_and_patterns"
   ]
  },
  {
   "cell_type": "code",
   "execution_count": 25,
   "metadata": {},
   "outputs": [],
   "source": [
    "def remove_html_and_patterns(text):\n",
    "    # مرحله 1: حذف تگ‌های HTML\n",
    "    soup = BeautifulSoup(text, \"html.parser\")\n",
    "    clean_text = soup.get_text()\n",
    "\n",
    "    # مرحله 2: حذف الگوهای خاص\n",
    "    patterns = [\n",
    "        r'\\b\\w*\\.png\\b',  # الگو برای *.png\n",
    "        r'\\bclass\\w*\\b',  # الگو برای class*\n",
    "        r'\\b\\w*emoji\\w*\\b'  # الگو برای *emoji*\n",
    "    ]\n",
    "    \n",
    "    for pattern in patterns:\n",
    "        clean_text = re.sub(pattern, '', clean_text)\n",
    "\n",
    "    # مرحله 3: حذف فاصله‌های اضافی\n",
    "    clean_text = ' '.join(clean_text.split())\n",
    "\n",
    "    return clean_text"
   ]
  },
  {
   "cell_type": "markdown",
   "metadata": {},
   "source": [
    "# Dive in HTML"
   ]
  },
  {
   "cell_type": "markdown",
   "metadata": {},
   "source": [
    "## Finding Things"
   ]
  },
  {
   "cell_type": "markdown",
   "metadata": {},
   "source": [
    "### is_a_super_group_open"
   ]
  },
  {
   "cell_type": "code",
   "execution_count": 26,
   "metadata": {},
   "outputs": [],
   "source": [
    "# بررسی می کند که آیا دکمه سوپر گروه باز است و درست یا غلط برمیگرداند\n",
    "def is_a_super_group_open():\n",
    "    try:\n",
    "        if(driver.find_element(By.CSS_SELECTOR, \"button.btn-icon.sidebar-close-button\").find_element(By.CSS_SELECTOR,\"span.tgico.button-icon\")):\n",
    "            return False\n",
    "    except:\n",
    "            return True"
   ]
  },
  {
   "cell_type": "markdown",
   "metadata": {},
   "source": [
    "### find_list_of_all_chats"
   ]
  },
  {
   "cell_type": "code",
   "execution_count": 27,
   "metadata": {},
   "outputs": [],
   "source": [
    "#  ساختن لیستی از کل چت های موجود    \n",
    "def find_list_of_all_chats():\n",
    "    close_super_group_button()\n",
    "    return driver.find_elements(By.CSS_SELECTOR, \"a.row.no-wrap.row-with-padding.row-clickable.hover-effect.rp.chatlist-chat.chatlist-chat-bigger.row-big\") \n"
   ]
  },
  {
   "cell_type": "markdown",
   "metadata": {},
   "source": [
    "### find_list_of_all_sub_chats"
   ]
  },
  {
   "cell_type": "code",
   "execution_count": 28,
   "metadata": {},
   "outputs": [],
   "source": [
    "#  ساختن لیستی از کل زیر چت های موجود    \n",
    "def find_list_of_all_sub_chats():\n",
    "    return driver.find_elements(By.CSS_SELECTOR,'ul.chatlist')[1] \\\n",
    "        .find_elements(By.CSS_SELECTOR,\"a.row.no-wrap.row-clickable.hover-effect.rp.chatlist-chat.chatlist-chat-bigger.row-big\")"
   ]
  },
  {
   "cell_type": "markdown",
   "metadata": {},
   "source": [
    "### find_chat_title_and_id"
   ]
  },
  {
   "cell_type": "code",
   "execution_count": 29,
   "metadata": {},
   "outputs": [],
   "source": [
    "#  یافتن عنوان و آیدی چت\n",
    "def find_chat_title_and_id(chat):\n",
    "    return [chat.find_element(By.CSS_SELECTOR,\"div.row-title.no-wrap.user-title\")\\\n",
    "                .find_element(By.CSS_SELECTOR,\"span.peer-title\")\\\n",
    "                .text ,\\\n",
    "            chat.find_element(By.CSS_SELECTOR,\"div.row-title.no-wrap.user-title\")\\\n",
    "                .find_element(By.CSS_SELECTOR,\"span.peer-title\") \\\n",
    "                .get_attribute('data-peer-id')]"
   ]
  },
  {
   "cell_type": "markdown",
   "metadata": {},
   "source": [
    "### find_sub_chat_title_and_id"
   ]
  },
  {
   "cell_type": "code",
   "execution_count": 30,
   "metadata": {},
   "outputs": [],
   "source": [
    "#  یافتن عنوان و آیدی زیرچت\n",
    "def find_sub_chat_title_and_id(chat):\n",
    "    return [chat.find_element(By.CSS_SELECTOR,\"div.row-title.no-wrap.user-title\")\\\n",
    "                .find_element(By.CSS_SELECTOR,\"span.peer-title\")\\\n",
    "                .text ,\\\n",
    "            chat.find_element(By.CSS_SELECTOR,\"div.row-title.no-wrap.user-title\")\\\n",
    "                .find_element(By.CSS_SELECTOR,\"span.peer-title\") \\\n",
    "                .get_attribute('data-peer-id')+\\\n",
    "            chat.find_element(By.CSS_SELECTOR,\"div.row-title.no-wrap.user-title\")\\\n",
    "                .find_element(By.CSS_SELECTOR,\"span.peer-title\") \\\n",
    "                .get_attribute('data-thread-id')]"
   ]
  },
  {
   "cell_type": "markdown",
   "metadata": {},
   "source": [
    "### is_there_unread_message"
   ]
  },
  {
   "cell_type": "code",
   "execution_count": 31,
   "metadata": {},
   "outputs": [],
   "source": [
    "#  چک می کند که آیا در این چت پیام خوانده نشده وجود دارد یا خیر\n",
    "def is_there_unread_message(chat):\n",
    "    try:\n",
    "        if(chat.find_element(By.CSS_SELECTOR,\"div.dialog-subtitle-badge.badge.badge-22.dialog-subtitle-badge-unread.is-visible.unread\").text):\n",
    "            return True  #  اگر این چت تگ پیام خوانده نشده داشته باشد مقدار تورو را برمگرداند وگرنه مقدار فالس را\n",
    "    except:\n",
    "        return False"
   ]
  },
  {
   "cell_type": "markdown",
   "metadata": {},
   "source": [
    "### check_if_message_is_new"
   ]
  },
  {
   "cell_type": "code",
   "execution_count": 32,
   "metadata": {},
   "outputs": [],
   "source": [
    "def check_if_message_is_new():\n",
    "    global previous_messages, chat_id, timestamp\n",
    "   \n",
    "    is_new = True # آیا آی دی گروه جدید است؟\n",
    "    for row in range(len(previous_messages)):\n",
    "        if(previous_messages[row][0] == chat_id):\n",
    "            is_new = False\n",
    "            break\n",
    "    if(is_new):\n",
    "        previous_messages.append([])\n",
    "        previous_messages[len(previous_messages) - 1].append(chat_id)\n",
    "        row += 1\n",
    "\n",
    "    for col in range(len(previous_messages[row])):\n",
    "        if (previous_messages[row][col] == timestamp):\n",
    "            return False\n",
    "    \n",
    "    previous_messages[row].append(timestamp)\n",
    "    return True"
   ]
  },
  {
   "cell_type": "markdown",
   "metadata": {},
   "source": [
    "## Do Something"
   ]
  },
  {
   "cell_type": "markdown",
   "metadata": {},
   "source": [
    "### close_super_group_button"
   ]
  },
  {
   "cell_type": "code",
   "execution_count": 33,
   "metadata": {},
   "outputs": [],
   "source": [
    "# این تابع دکمه بستن سوپر گروه ها را اگر باز شده باشند می زند تا بسته شود\n",
    "def close_super_group_button():\n",
    "        try:\n",
    "                super_group_button = driver.find_element(By.CSS_SELECTOR, \"button.btn-icon.sidebar-close-button\")\n",
    "                super_group_button.click()\n",
    "        except:\n",
    "                {}"
   ]
  },
  {
   "cell_type": "markdown",
   "metadata": {},
   "source": [
    "### scroll_down"
   ]
  },
  {
   "cell_type": "code",
   "execution_count": 34,
   "metadata": {},
   "outputs": [],
   "source": [
    "# با فراخوانی این تابع دکمه اسکرول داون در صورت وجود فشرده می شود\n",
    "def scroll_down():\n",
    "    scroll_down_button = driver.find_element(By.CSS_SELECTOR, \".btn-circle.btn-corner.z-depth-1.bubbles-corner-button.chat-secondary-button.bubbles-go-down.rp\")\n",
    "    try:\n",
    "        scroll_down_button.click()\n",
    "        time.sleep(3)\n",
    "    except:\n",
    "        {}"
   ]
  },
  {
   "cell_type": "markdown",
   "metadata": {},
   "source": [
    "# Axiliary Functions"
   ]
  },
  {
   "cell_type": "markdown",
   "metadata": {},
   "source": [
    "### warm_up"
   ]
  },
  {
   "cell_type": "code",
   "execution_count": 35,
   "metadata": {},
   "outputs": [],
   "source": [
    "def warm_up():\n",
    "    global previous_messages\n",
    "    chats = find_list_of_all_chats()\n",
    "    for chat in chats:\n",
    "        [chat_title, chat_id] = find_chat_title_and_id(chat)\n",
    "        if not(redundent_chats(chat_id)):\n",
    "            previous_messages.append([chat_id])\n",
    "            "
   ]
  },
  {
   "cell_type": "markdown",
   "metadata": {},
   "source": [
    "### redundent_chats"
   ]
  },
  {
   "cell_type": "code",
   "execution_count": 36,
   "metadata": {},
   "outputs": [],
   "source": [
    "#  چت هایی که مطمئنیم نیازی به بررسی آن ها نیست\n",
    "def redundent_chats(chat_id):\n",
    "    if chat_id in ['5427116584','-4214311773']:\n",
    "        return True\n",
    "    else:\n",
    "        return False"
   ]
  },
  {
   "cell_type": "markdown",
   "metadata": {},
   "source": [
    "### trim_rows"
   ]
  },
  {
   "cell_type": "code",
   "execution_count": 37,
   "metadata": {},
   "outputs": [],
   "source": [
    "# only keep the last message info\n",
    "def trim_rows(max_elements=50):\n",
    "    global previous_messages\n",
    "    \n",
    "    for i in range(len(previous_messages)):\n",
    "        if len(previous_messages[i]) > max_elements:\n",
    "            # حذف عناصر از عنصر دوم تا تعداد مورد نظر\n",
    "            previous_messages[i] = [previous_messages[i][0]] + previous_messages[i][len(previous_messages[i]) - max_elements + 1:]"
   ]
  },
  {
   "cell_type": "markdown",
   "metadata": {},
   "source": [
    "# Comunication"
   ]
  },
  {
   "cell_type": "markdown",
   "metadata": {},
   "source": [
    "### send_message"
   ]
  },
  {
   "cell_type": "code",
   "execution_count": 67,
   "metadata": {},
   "outputs": [],
   "source": [
    "def send_message(message):\n",
    "    close_super_group_button()\n",
    "    hunting.click()\n",
    "    time.sleep(1)\n",
    "    input_box = driver.find_element(By.CSS_SELECTOR, 'div.input-message-input')\n",
    "    # پاک کردن هر مقدار موجود در اینپوت باکس\n",
    "    input_box.clear()  # ممکن است این متد بر روی المان‌های contenteditable کار نکند، بسته به نوع مرورگر\n",
    "    # ارسال مقدار مورد نظر به اینپوت باکس\n",
    "    input_box.send_keys(message)\n",
    "    time.sleep(2)\n",
    "    \n",
    "    send_button = driver.find_element(By.CSS_SELECTOR, 'div.btn-send-container')  #  انتخاب دکمه ارسال\n",
    "    send_button.click()\n",
    "    \n",
    "    \n",
    "    # # در صورت نیاز به ارسال اینتر در انتها\n",
    "    # time.sleep(2)\n",
    "    # input_box.send_keys(Keys.RETURN)"
   ]
  },
  {
   "cell_type": "markdown",
   "metadata": {},
   "source": [
    "### log_error"
   ]
  },
  {
   "cell_type": "code",
   "execution_count": 39,
   "metadata": {},
   "outputs": [],
   "source": [
    "def log_error(error_message):\n",
    "    caller = inspect.stack()[1]\n",
    "    try:\n",
    "        with open('error_log.txt', 'a') as file:\n",
    "            current_time = datetime.now().strftime('%Y-%m-%d %H:%M:%S')\n",
    "            file.write(f\"Time: {current_time}\\n\")\n",
    "            file.write(f\"Error in line <<< {caller.lineno} >>> of Function <<< {caller.function } >>>. \\n\")\n",
    "            file.write(f\"Error: {error_message}\\n\")\n",
    "            file.write(\"\\n\" + \"=*\"*75 + \"\\n\")\n",
    "    except Exception as e:\n",
    "        print(f\"Failed to log error: {e}\")\n"
   ]
  },
  {
   "cell_type": "markdown",
   "metadata": {},
   "source": [
    "# Main Logic"
   ]
  },
  {
   "cell_type": "markdown",
   "metadata": {},
   "source": [
    "### survey_the_chat"
   ]
  },
  {
   "cell_type": "code",
   "execution_count": 101,
   "metadata": {},
   "outputs": [],
   "source": [
    "#  در اینجا ما برای یک چت پیام ها را بررسی می کنیم که آیا موردی که مد نظرمان باشد یافت می شود یا خیر\n",
    "def survey_the_chat(chat):\n",
    "    global sending_messages, hunting, chat_id, timestamp\n",
    "    \n",
    "    caller_function = inspect.currentframe().f_back.f_code.co_name    \n",
    "    \n",
    "    [chat_title, chat_id] = find_chat_title_and_id(chat)\n",
    "    if chat_id == '-2219036112':   # گروه هانتینگ \n",
    "        hunting = chat\n",
    "        return\n",
    "    \n",
    "    if(redundent_chats(chat_id)):\n",
    "        print('redundent chat <- <- <- ', chat_title)\n",
    "        return\n",
    "\n",
    "    if(not(is_there_unread_message(chat))):\n",
    "        return;   \n",
    "                \n",
    "    print(f\"Time {datetime.now().strftime('%Y-%m-%d %H:%M:%S')} necessary chat -> -> -> \", chat_title)         \n",
    "    scroll_down()\n",
    "    converstion_list = driver.find_elements(By.CSS_SELECTOR, \"div.bubbles-group\")   # پیام هر کاربر در تگ با این کلاس هست\n",
    "    for conversation in converstion_list:\n",
    "        try:\n",
    "            user_name = remove_html_and_patterns(conversation.find_element(By.CSS_SELECTOR, \"span.peer-title\").get_attribute(\"innerHTML\"))\n",
    "            message = remove_html_and_patterns(conversation.find_element(By.CSS_SELECTOR,\"span.translatable-message\").get_attribute(\"innerHTML\"))\n",
    "            timestamp = conversation.find_element(By.CSS_SELECTOR,'.is-in').get_attribute('data-timestamp')\n",
    "            # data_peer_id = conversation.find_element(By.CSS_SELECTOR,'.is-in').get_attribute('data-peer-id')\n",
    "        except:\n",
    "            continue\n",
    "        if (check_if_message_is_new()):\n",
    "            if(text_processing(message)):\n",
    "                for_sending = f\" **نام گروه** <<< {chat_title} >>> **نام کاربر** <<< {user_name} >>> **Message:** : {message}\"\n",
    "                sending_messages.append(for_sending)\n",
    "                print(for_sending)"
   ]
  },
  {
   "cell_type": "code",
   "execution_count": 95,
   "metadata": {},
   "outputs": [],
   "source": [
    "def clicking(item):\n",
    "    try:\n",
    "        item.click()\n",
    "        return False   # it means there is no problem in clicking the item\n",
    "    except:\n",
    "        time.sleep(10)\n",
    "        try:\n",
    "            item.click()\n",
    "            return False   # it means there is no problem in clicking the item\n",
    "        except:\n",
    "            return True   # it means there is a problem in clicking the item"
   ]
  },
  {
   "cell_type": "markdown",
   "metadata": {},
   "source": [
    "### survey_the_sub_chats"
   ]
  },
  {
   "cell_type": "code",
   "execution_count": 100,
   "metadata": {},
   "outputs": [],
   "source": [
    "def survey_the_sub_chats(mother_chat_title = 'unknown'):\n",
    "    global sending_messages, chat_id, timestamp\n",
    "    cat_chats = find_list_of_all_sub_chats()\n",
    "    for chat in cat_chats:\n",
    "        if(True): #is_there_unread_message(chat)):              \n",
    "            [sub_chat_title, chat_id] = find_sub_chat_title_and_id(chat)\n",
    "            print(f\"Time {datetime.now().strftime('%Y-%m-%d %H:%M:%S')} ================subgroup {sub_chat_title} of mother group {mother_chat_title}==========\")\n",
    "            chat_title = f\"{sub_chat_title} ({mother_chat_title})\"\n",
    "            if clicking(chat):\n",
    "                continue\n",
    "            time.sleep(2)  # کمی صبر کنید تا عملیات کلیک و هر اتفاق بعد از آن انجام شود\n",
    "            scroll_down()\n",
    "            time.sleep(1)\n",
    "            sub_converstion_list = driver.find_elements(By.CSS_SELECTOR, \"div.bubbles-group\") # پیام هر کاربر در تگ با این کلاس هست\n",
    "            for conversation in sub_converstion_list:\n",
    "                try:\n",
    "                    user_name = remove_html_and_patterns(conversation.find_element(By.CSS_SELECTOR,\"span.peer-title\").text)\n",
    "                    message = remove_html_and_patterns(conversation.find_element(By.CSS_SELECTOR,\"span.translatable-message\").text)\n",
    "                    timestamp = conversation.find_element(By.CSS_SELECTOR,'div.is-in').get_attribute('data-timestamp')\n",
    "                except Exception as e:\n",
    "                    # print(f\"**************************************Error: {e}\")\n",
    "                    continue\n",
    "                    \n",
    "                if (check_if_message_is_new()):\n",
    "                    if(text_processing(message)):\n",
    "                        for_sending = f\"**نام گروه** : <<< {chat_title} >>> **نام کاربر** === <<< {user_name} >>> **Message:** : {message}\"\n",
    "                        sending_messages.append(for_sending)\n",
    "    close_super_group_button()\n",
    "                    "
   ]
  },
  {
   "cell_type": "markdown",
   "metadata": {},
   "source": [
    "### once_check_all_groups"
   ]
  },
  {
   "cell_type": "code",
   "execution_count": 92,
   "metadata": {},
   "outputs": [],
   "source": [
    "def once_check_all_groups():\n",
    "    global hunting, sending_messages\n",
    "\n",
    "    chats = find_list_of_all_chats()\n",
    "    for chat in chats:\n",
    "        [chat_title, chat_id] = find_chat_title_and_id(chat)\n",
    "        chat.click()\n",
    "        time.sleep(2)\n",
    "        if  (is_a_super_group_open()):\n",
    "            survey_the_sub_chats(chat_title)        \n",
    "        else:\n",
    "            survey_the_chat(chat)          \n",
    "\n",
    "    try:\n",
    "        for message in sending_messages:\n",
    "            send_message(message)\n",
    "            print(f\"Time {datetime.now().strftime('%Y-%m-%d %H:%M:%S')} :\\n\"+message)\n",
    "            time.sleep(4)\n",
    "\n",
    "        sending_messages = []  #  ریست کردن استورج جمع آوری پیام ها      \n",
    "    except:\n",
    "        {} \n",
    "    trim_rows()  #  حذف اضافات ماتریس اطلاعات مسج های قبلی\n"
   ]
  },
  {
   "cell_type": "markdown",
   "metadata": {},
   "source": [
    "### main"
   ]
  },
  {
   "cell_type": "markdown",
   "metadata": {},
   "source": [
    "def main():\n",
    "    # warm_up()\n",
    "    while True:\n",
    "        print('***********************  NEW ROUND  ****************************************')\n",
    "        once_check_all_groups()\n"
   ]
  },
  {
   "cell_type": "markdown",
   "metadata": {},
   "source": [
    "# RUNNING TIME"
   ]
  },
  {
   "cell_type": "code",
   "execution_count": 93,
   "metadata": {},
   "outputs": [
    {
     "name": "stdout",
     "output_type": "stream",
     "text": [
      "***********************  NEW ROUND  ****************************************\n",
      "Time 2024-06-27 03:12:38 necessary chat -> -> ->  New Policy | Canada\n",
      "Time 2024-06-27 03:12:43 necessary chat -> -> ->  گروه کولبر کانادا\n",
      "Time 2024-06-27 03:12:50 ================subgroup تبلیغات و معرفی مشاغل of mother group گروه ایرانیان کانادا==========\n",
      "Time 2024-06-27 03:13:56 ================subgroup معرفی گروه ایرانیان کانادا of mother group گروه ایرانیان کانادا==========\n",
      "Time 2024-06-27 03:14:31 ================subgroup گواهینامه، خودرو و تعمیرات of mother group گروه ایرانیان کانادا==========\n"
     ]
    },
    {
     "name": "stderr",
     "output_type": "stream",
     "text": [
      "/tmp/ipykernel_5026/32167531.py:3: MarkupResemblesLocatorWarning: The input looks more like a URL than markup. You may want to use an HTTP client like requests to get the document behind the URL, and feed that document to Beautiful Soup.\n",
      "  soup = BeautifulSoup(text, \"html.parser\")\n"
     ]
    },
    {
     "name": "stdout",
     "output_type": "stream",
     "text": [
      "Time 2024-06-27 03:17:26 ================subgroup خرید، اجاره و سابلت خونه of mother group گروه ایرانیان کانادا==========\n"
     ]
    },
    {
     "name": "stderr",
     "output_type": "stream",
     "text": [
      "/tmp/ipykernel_5026/32167531.py:3: MarkupResemblesLocatorWarning: The input looks more like a filename than markup. You may want to open this file and pass the filehandle into Beautiful Soup.\n",
      "  soup = BeautifulSoup(text, \"html.parser\")\n"
     ]
    },
    {
     "name": "stdout",
     "output_type": "stream",
     "text": [
      "Time 2024-06-27 03:19:14 ================subgroup کاریابی در کانادا of mother group گروه ایرانیان کانادا==========\n",
      "Time 2024-06-27 03:22:25 ================subgroup بیمه، درمان و سلامت of mother group گروه ایرانیان کانادا==========\n",
      "Time 2024-06-27 03:24:57 ================subgroup تجربیات پرواز of mother group گروه ایرانیان کانادا==========\n",
      "Time 2024-06-27 03:28:03 ================subgroup امور بانکی و اداری of mother group گروه ایرانیان کانادا==========\n",
      "Time 2024-06-27 03:28:47 ================subgroup تجربیات مهاجران of mother group گروه ایرانیان کانادا==========\n",
      "Time 2024-06-27 03:32:33 ================subgroup ویزای مجدد، تمدید پرمیت و PGWP of mother group گروه ایرانیان کانادا==========\n",
      "Time 2024-06-27 03:32:44 ================subgroup مالیات در کانادا of mother group گروه ایرانیان کانادا==========\n",
      "Time 2024-06-27 03:35:28 ================subgroup General of mother group گروه ایرانیان کانادا==========\n",
      "Time 2024-06-27 03:38:22 necessary chat -> -> ->  ویزای همراه | کانادا\n",
      "Time 2024-06-27 03:38:25 necessary chat -> -> ->  پذیرش تحصیلی | کانادا و آمریکا\n",
      "Time 2024-06-27 03:38:35 necessary chat -> -> ->  CELPIP Group\n",
      "Time 2024-06-27 03:38:42 ================subgroup  of mother group اقامت دائم کانادا | کاما==========\n"
     ]
    },
    {
     "ename": "ElementNotInteractableException",
     "evalue": "Message: element not interactable\n  (Session info: chrome=126.0.6478.126)\nStacktrace:\n#0 0x62c4a53b2c7a <unknown>\n#1 0x62c4a5095c71 <unknown>\n#2 0x62c4a50e37ef <unknown>\n#3 0x62c4a50d715f <unknown>\n#4 0x62c4a51055c2 <unknown>\n#5 0x62c4a50d6ad9 <unknown>\n#6 0x62c4a510578e <unknown>\n#7 0x62c4a5124303 <unknown>\n#8 0x62c4a5105363 <unknown>\n#9 0x62c4a50d5247 <unknown>\n#10 0x62c4a50d5b9e <unknown>\n#11 0x62c4a537924b <unknown>\n#12 0x62c4a537d2f1 <unknown>\n#13 0x62c4a5364afe <unknown>\n#14 0x62c4a537de52 <unknown>\n#15 0x62c4a534979f <unknown>\n#16 0x62c4a53a2638 <unknown>\n#17 0x62c4a53a2810 <unknown>\n#18 0x62c4a53b1dac <unknown>\n#19 0x7f776fa94ac3 <unknown>\n",
     "output_type": "error",
     "traceback": [
      "\u001b[0;31m---------------------------------------------------------------------------\u001b[0m",
      "\u001b[0;31mElementNotInteractableException\u001b[0m           Traceback (most recent call last)",
      "Cell \u001b[0;32mIn[93], line 8\u001b[0m\n\u001b[1;32m      5\u001b[0m         once_check_all_groups()\n\u001b[1;32m      7\u001b[0m \u001b[38;5;28;01mif\u001b[39;00m \u001b[38;5;18m__name__\u001b[39m \u001b[38;5;241m==\u001b[39m \u001b[38;5;124m\"\u001b[39m\u001b[38;5;124m__main__\u001b[39m\u001b[38;5;124m\"\u001b[39m:\n\u001b[0;32m----> 8\u001b[0m     \u001b[43mmain\u001b[49m\u001b[43m(\u001b[49m\u001b[43m)\u001b[49m\n",
      "Cell \u001b[0;32mIn[93], line 5\u001b[0m, in \u001b[0;36mmain\u001b[0;34m()\u001b[0m\n\u001b[1;32m      3\u001b[0m \u001b[38;5;28;01mwhile\u001b[39;00m \u001b[38;5;28;01mTrue\u001b[39;00m:\n\u001b[1;32m      4\u001b[0m     \u001b[38;5;28mprint\u001b[39m(\u001b[38;5;124m'\u001b[39m\u001b[38;5;124m***********************  NEW ROUND  ****************************************\u001b[39m\u001b[38;5;124m'\u001b[39m)\n\u001b[0;32m----> 5\u001b[0m     \u001b[43monce_check_all_groups\u001b[49m\u001b[43m(\u001b[49m\u001b[43m)\u001b[49m\n",
      "Cell \u001b[0;32mIn[92], line 10\u001b[0m, in \u001b[0;36monce_check_all_groups\u001b[0;34m()\u001b[0m\n\u001b[1;32m      8\u001b[0m time\u001b[38;5;241m.\u001b[39msleep(\u001b[38;5;241m2\u001b[39m)\n\u001b[1;32m      9\u001b[0m \u001b[38;5;28;01mif\u001b[39;00m  (is_a_super_group_open()):\n\u001b[0;32m---> 10\u001b[0m     \u001b[43msurvey_the_sub_chats\u001b[49m\u001b[43m(\u001b[49m\u001b[43mchat_title\u001b[49m\u001b[43m)\u001b[49m        \n\u001b[1;32m     11\u001b[0m \u001b[38;5;28;01melse\u001b[39;00m:\n\u001b[1;32m     12\u001b[0m     survey_the_chat(chat)          \n",
      "Cell \u001b[0;32mIn[91], line 9\u001b[0m, in \u001b[0;36msurvey_the_sub_chats\u001b[0;34m(mother_chat_title)\u001b[0m\n\u001b[1;32m      7\u001b[0m \u001b[38;5;28mprint\u001b[39m(\u001b[38;5;124mf\u001b[39m\u001b[38;5;124m\"\u001b[39m\u001b[38;5;124mTime \u001b[39m\u001b[38;5;132;01m{\u001b[39;00mdatetime\u001b[38;5;241m.\u001b[39mnow()\u001b[38;5;241m.\u001b[39mstrftime(\u001b[38;5;124m'\u001b[39m\u001b[38;5;124m%\u001b[39m\u001b[38;5;124mY-\u001b[39m\u001b[38;5;124m%\u001b[39m\u001b[38;5;124mm-\u001b[39m\u001b[38;5;132;01m%d\u001b[39;00m\u001b[38;5;124m \u001b[39m\u001b[38;5;124m%\u001b[39m\u001b[38;5;124mH:\u001b[39m\u001b[38;5;124m%\u001b[39m\u001b[38;5;124mM:\u001b[39m\u001b[38;5;124m%\u001b[39m\u001b[38;5;124mS\u001b[39m\u001b[38;5;124m'\u001b[39m)\u001b[38;5;132;01m}\u001b[39;00m\u001b[38;5;124m ================subgroup \u001b[39m\u001b[38;5;132;01m{\u001b[39;00msub_chat_title\u001b[38;5;132;01m}\u001b[39;00m\u001b[38;5;124m of mother group \u001b[39m\u001b[38;5;132;01m{\u001b[39;00mmother_chat_title\u001b[38;5;132;01m}\u001b[39;00m\u001b[38;5;124m==========\u001b[39m\u001b[38;5;124m\"\u001b[39m)\n\u001b[1;32m      8\u001b[0m chat_title \u001b[38;5;241m=\u001b[39m \u001b[38;5;124mf\u001b[39m\u001b[38;5;124m\"\u001b[39m\u001b[38;5;132;01m{\u001b[39;00msub_chat_title\u001b[38;5;132;01m}\u001b[39;00m\u001b[38;5;124m (\u001b[39m\u001b[38;5;132;01m{\u001b[39;00mmother_chat_title\u001b[38;5;132;01m}\u001b[39;00m\u001b[38;5;124m)\u001b[39m\u001b[38;5;124m\"\u001b[39m\n\u001b[0;32m----> 9\u001b[0m \u001b[43mchat\u001b[49m\u001b[38;5;241;43m.\u001b[39;49m\u001b[43mclick\u001b[49m\u001b[43m(\u001b[49m\u001b[43m)\u001b[49m\n\u001b[1;32m     10\u001b[0m time\u001b[38;5;241m.\u001b[39msleep(\u001b[38;5;241m2\u001b[39m)  \u001b[38;5;66;03m# کمی صبر کنید تا عملیات کلیک و هر اتفاق بعد از آن انجام شود\u001b[39;00m\n\u001b[1;32m     11\u001b[0m scroll_down()\n",
      "File \u001b[0;32m~/Documents/tel_scrapper/lib/python3.10/site-packages/selenium/webdriver/remote/webelement.py:94\u001b[0m, in \u001b[0;36mWebElement.click\u001b[0;34m(self)\u001b[0m\n\u001b[1;32m     92\u001b[0m \u001b[38;5;28;01mdef\u001b[39;00m \u001b[38;5;21mclick\u001b[39m(\u001b[38;5;28mself\u001b[39m) \u001b[38;5;241m-\u001b[39m\u001b[38;5;241m>\u001b[39m \u001b[38;5;28;01mNone\u001b[39;00m:\n\u001b[1;32m     93\u001b[0m \u001b[38;5;250m    \u001b[39m\u001b[38;5;124;03m\"\"\"Clicks the element.\"\"\"\u001b[39;00m\n\u001b[0;32m---> 94\u001b[0m     \u001b[38;5;28;43mself\u001b[39;49m\u001b[38;5;241;43m.\u001b[39;49m\u001b[43m_execute\u001b[49m\u001b[43m(\u001b[49m\u001b[43mCommand\u001b[49m\u001b[38;5;241;43m.\u001b[39;49m\u001b[43mCLICK_ELEMENT\u001b[49m\u001b[43m)\u001b[49m\n",
      "File \u001b[0;32m~/Documents/tel_scrapper/lib/python3.10/site-packages/selenium/webdriver/remote/webelement.py:395\u001b[0m, in \u001b[0;36mWebElement._execute\u001b[0;34m(self, command, params)\u001b[0m\n\u001b[1;32m    393\u001b[0m     params \u001b[38;5;241m=\u001b[39m {}\n\u001b[1;32m    394\u001b[0m params[\u001b[38;5;124m\"\u001b[39m\u001b[38;5;124mid\u001b[39m\u001b[38;5;124m\"\u001b[39m] \u001b[38;5;241m=\u001b[39m \u001b[38;5;28mself\u001b[39m\u001b[38;5;241m.\u001b[39m_id\n\u001b[0;32m--> 395\u001b[0m \u001b[38;5;28;01mreturn\u001b[39;00m \u001b[38;5;28;43mself\u001b[39;49m\u001b[38;5;241;43m.\u001b[39;49m\u001b[43m_parent\u001b[49m\u001b[38;5;241;43m.\u001b[39;49m\u001b[43mexecute\u001b[49m\u001b[43m(\u001b[49m\u001b[43mcommand\u001b[49m\u001b[43m,\u001b[49m\u001b[43m \u001b[49m\u001b[43mparams\u001b[49m\u001b[43m)\u001b[49m\n",
      "File \u001b[0;32m~/Documents/tel_scrapper/lib/python3.10/site-packages/selenium/webdriver/remote/webdriver.py:354\u001b[0m, in \u001b[0;36mWebDriver.execute\u001b[0;34m(self, driver_command, params)\u001b[0m\n\u001b[1;32m    352\u001b[0m response \u001b[38;5;241m=\u001b[39m \u001b[38;5;28mself\u001b[39m\u001b[38;5;241m.\u001b[39mcommand_executor\u001b[38;5;241m.\u001b[39mexecute(driver_command, params)\n\u001b[1;32m    353\u001b[0m \u001b[38;5;28;01mif\u001b[39;00m response:\n\u001b[0;32m--> 354\u001b[0m     \u001b[38;5;28;43mself\u001b[39;49m\u001b[38;5;241;43m.\u001b[39;49m\u001b[43merror_handler\u001b[49m\u001b[38;5;241;43m.\u001b[39;49m\u001b[43mcheck_response\u001b[49m\u001b[43m(\u001b[49m\u001b[43mresponse\u001b[49m\u001b[43m)\u001b[49m\n\u001b[1;32m    355\u001b[0m     response[\u001b[38;5;124m\"\u001b[39m\u001b[38;5;124mvalue\u001b[39m\u001b[38;5;124m\"\u001b[39m] \u001b[38;5;241m=\u001b[39m \u001b[38;5;28mself\u001b[39m\u001b[38;5;241m.\u001b[39m_unwrap_value(response\u001b[38;5;241m.\u001b[39mget(\u001b[38;5;124m\"\u001b[39m\u001b[38;5;124mvalue\u001b[39m\u001b[38;5;124m\"\u001b[39m, \u001b[38;5;28;01mNone\u001b[39;00m))\n\u001b[1;32m    356\u001b[0m     \u001b[38;5;28;01mreturn\u001b[39;00m response\n",
      "File \u001b[0;32m~/Documents/tel_scrapper/lib/python3.10/site-packages/selenium/webdriver/remote/errorhandler.py:229\u001b[0m, in \u001b[0;36mErrorHandler.check_response\u001b[0;34m(self, response)\u001b[0m\n\u001b[1;32m    227\u001b[0m         alert_text \u001b[38;5;241m=\u001b[39m value[\u001b[38;5;124m\"\u001b[39m\u001b[38;5;124malert\u001b[39m\u001b[38;5;124m\"\u001b[39m]\u001b[38;5;241m.\u001b[39mget(\u001b[38;5;124m\"\u001b[39m\u001b[38;5;124mtext\u001b[39m\u001b[38;5;124m\"\u001b[39m)\n\u001b[1;32m    228\u001b[0m     \u001b[38;5;28;01mraise\u001b[39;00m exception_class(message, screen, stacktrace, alert_text)  \u001b[38;5;66;03m# type: ignore[call-arg]  # mypy is not smart enough here\u001b[39;00m\n\u001b[0;32m--> 229\u001b[0m \u001b[38;5;28;01mraise\u001b[39;00m exception_class(message, screen, stacktrace)\n",
      "\u001b[0;31mElementNotInteractableException\u001b[0m: Message: element not interactable\n  (Session info: chrome=126.0.6478.126)\nStacktrace:\n#0 0x62c4a53b2c7a <unknown>\n#1 0x62c4a5095c71 <unknown>\n#2 0x62c4a50e37ef <unknown>\n#3 0x62c4a50d715f <unknown>\n#4 0x62c4a51055c2 <unknown>\n#5 0x62c4a50d6ad9 <unknown>\n#6 0x62c4a510578e <unknown>\n#7 0x62c4a5124303 <unknown>\n#8 0x62c4a5105363 <unknown>\n#9 0x62c4a50d5247 <unknown>\n#10 0x62c4a50d5b9e <unknown>\n#11 0x62c4a537924b <unknown>\n#12 0x62c4a537d2f1 <unknown>\n#13 0x62c4a5364afe <unknown>\n#14 0x62c4a537de52 <unknown>\n#15 0x62c4a534979f <unknown>\n#16 0x62c4a53a2638 <unknown>\n#17 0x62c4a53a2810 <unknown>\n#18 0x62c4a53b1dac <unknown>\n#19 0x7f776fa94ac3 <unknown>\n"
     ]
    }
   ],
   "source": [
    "def main():\n",
    "    # warm_up()\n",
    "    while True:\n",
    "        print('***********************  NEW ROUND  ****************************************')\n",
    "        once_check_all_groups()\n",
    "\n",
    "if __name__ == \"__main__\":\n",
    "    main()"
   ]
  },
  {
   "cell_type": "markdown",
   "metadata": {},
   "source": [
    "#  تستی "
   ]
  },
  {
   "cell_type": "code",
   "execution_count": 69,
   "metadata": {},
   "outputs": [],
   "source": [
    "sending_messages=[]\n",
    "# previous_messages=[]"
   ]
  },
  {
   "cell_type": "code",
   "execution_count": 99,
   "metadata": {},
   "outputs": [
    {
     "data": {
      "text/plain": [
       "['=== **نام گروه** ===  ویزای همراه | کانادا                                                     === **نام کاربر** === ️                                                       ====> =====> =======> سلام دوستان من کجای پروفایلم میتونم مدارکی که بار گزاری شده رو ببینم؟ قبلا وکیل انجام داده بود میخام ببینم چی بار گزاری شده بوده ممنونم']"
      ]
     },
     "execution_count": 99,
     "metadata": {},
     "output_type": "execute_result"
    }
   ],
   "source": [
    "sending_messages "
   ]
  },
  {
   "cell_type": "code",
   "execution_count": 53,
   "metadata": {},
   "outputs": [
    {
     "name": "stdout",
     "output_type": "stream",
     "text": [
      "=== **نام گروه** ===  A\n",
      "Atlantic Program (AIP) (اقامت دائم کانادا | کاما)                                                             === **نام کاربر** === Afra Nejatinezhad                                                               ====> =====> =======> سلام میتونید وقت مشاوره با من بگیرید بهتون توضیح بدم @CanadaPrAdmin\n",
      "=== **نام گروه** ===  O\n",
      "Other Programs (اقامت دائم کانادا | کاما)                                                             === **نام کاربر** === Roi                                                               ====> =====> =======> سلام کسی میشناسیو ک مشاور باشه برای ویزا توريستی وکیل نه مشاور مهاجرت ک خودشون کانادا باشن\n",
      "=== **نام گروه** ===  O\n",
      "Other Programs (اقامت دائم کانادا | کاما)                                                             === **نام کاربر** === Farzaneh zri                                                               ====> =====> =======> سلام کسی میشناسیو ک مشاور باشه برای ویزا توريستی وکیل نه مشاور مهاجرت ک خودشون کانادا باشن\n",
      "=== **نام گروه** ===  S\n",
      "Start-up Program (اقامت دائم کانادا | کاما)                                                             === **نام کاربر** === A                                                               ====> =====> =======> سلام میتونید وقت مشاوره پی ار با من بگیرید تا براتون بیس مهاجرت رو توضیح بدم @CanadaPrAdmin\n",
      "=== **نام گروه** ===  S\n",
      "Start-up Program (اقامت دائم کانادا | کاما)                                                             === **نام کاربر** === Mahshid Nik                                                               ====> =====> =======> ببخشید شما مشاوره کسب و کار و بیزینس هم دارید؟\n",
      "=== **نام گروه** ===  S\n",
      "Start-up Program (اقامت دائم کانادا | کاما)                                                             === **نام کاربر** === Z B                                                               ====> =====> =======> سلام چطور می تونم مشاوره بگیرم ؟؟؟\n",
      "=== **نام گروه** ===  مونترال نامه                                                     === **نام کاربر** === Apprendre Le français                                                       ====> =====> =======> آموزش سریع و آسان زبان فرانسه توسط مدرس تحصیلکرده در پاریس و اقامت به مدت ده سال اولین و بزرگترین برگزار کننده دوره‌های مجازی آموزش زبان فرانسه برای فارسی‌‌زبانان *آمادگی آزمون ها *مکالمه و گرامر *ترمیک یا فشرده *مبتدی تا پیشرفته تدریس با متد معتبر بین‌المللی و با رویکرد بهره‌وری بالا در کوتاه‌ترین مدت تمرکز بر روی هر چهار مهارت زبانی (صحبت کردن، گوش دادن، خواندن و نوشتن) تجربه سال‌ها برگزاری و تعلیم چندین هزار زبان‌آموز ما در این دوره آموزشی از الفبای زبان فرانسه شروع می‌کنیم و با استفاده از کارآمد‌ترین تکنیک‌ها و در کوتاه‌ترین زمان ممکن، مکالمه فرانسه را به شما می‌آموزیم. برای مشاوره و تعیین سطح 09016443753 **کلاس های خصوصی بصورت آنلاین و خصوصی تشکیل میشود ‌. *تعیین سطح رایگان میباشد.\n"
     ]
    }
   ],
   "source": [
    "for message in sending_messages:\n",
    "    print(message)\n",
    "    time.sleep(4)"
   ]
  },
  {
   "cell_type": "code",
   "execution_count": 68,
   "metadata": {},
   "outputs": [],
   "source": [
    "for message in sending_messages:\n",
    "    cleaned_text = ' '.join(message.split())\n",
    "    send_message(cleaned_text)\n",
    "    time.sleep(4)\n"
   ]
  }
 ],
 "metadata": {
  "kernelspec": {
   "display_name": "dev",
   "language": "python",
   "name": "python3"
  },
  "language_info": {
   "codemirror_mode": {
    "name": "ipython",
    "version": 3
   },
   "file_extension": ".py",
   "mimetype": "text/x-python",
   "name": "python",
   "nbconvert_exporter": "python",
   "pygments_lexer": "ipython3",
   "version": "3.10.12"
  }
 },
 "nbformat": 4,
 "nbformat_minor": 2
}
