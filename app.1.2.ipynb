{
 "cells": [
  {
   "cell_type": "markdown",
   "metadata": {},
   "source": [
    "# initializing and imports"
   ]
  },
  {
   "cell_type": "code",
   "execution_count": 40,
   "metadata": {},
   "outputs": [],
   "source": [
    "from selenium import webdriver\n",
    "from selenium.webdriver.common.by import By\n",
    "from selenium.webdriver.chrome.service import Service\n",
    "from selenium.webdriver import ActionChains\n",
    "from selenium.webdriver.chrome.options import Options\n",
    "from selenium.webdriver.common.keys import Keys\n",
    "from bs4 import BeautifulSoup\n",
    "from datetime import datetime\n",
    "import inspect\n",
    "import re\n",
    "import time\n",
    "\n",
    "\n"
   ]
  },
  {
   "cell_type": "code",
   "execution_count": 41,
   "metadata": {},
   "outputs": [],
   "source": [
    "hunting = 0  #  شیئی گروه برای ارسال پیام های یافت شده\n",
    "previous_messages = []  #  زمان ارسال پیام های قبل برای جلوگیری از ارسال مجدد آن ها\n",
    "sending_messages=[]  #  پیام های یافت شده را در این نگه میداریم تا زمان ارسال و بعد مجددا خالی اش می کنیم\n",
    "# chat_title=''\n",
    "# chat_id=''\n",
    "# timestamp = ''\n",
    "driver = webdriver.Chrome()\n",
    "driver.get(\"https://web.telegram.org/k/\")"
   ]
  },
  {
   "cell_type": "markdown",
   "metadata": {},
   "source": [
    "# Text Processing"
   ]
  },
  {
   "cell_type": "markdown",
   "metadata": {},
   "source": [
    "### text_processing"
   ]
  },
  {
   "cell_type": "code",
   "execution_count": 42,
   "metadata": {},
   "outputs": [],
   "source": [
    "#  تابع پردازش پیام ها\n",
    "def text_processing(text):\n",
    "    if(text == []):\n",
    "        return False\n",
    "    positive_expression =['مشاور','وکیل','منصوری','روادید',]\n",
    "    negetive_expression =['تماس بگیرید','لطفا جهت کسب اطلاعات',\n",
    "                          'خدمات ما شامل', 'لطفا جهت ثبت نام']\n",
    "    for expression in negetive_expression:\n",
    "        if expression in text:\n",
    "            return False\n",
    "        \n",
    "    for expression in positive_expression:\n",
    "        if expression in text:\n",
    "            return True\n"
   ]
  },
  {
   "cell_type": "markdown",
   "metadata": {},
   "source": [
    "### remove_html_and_patterns"
   ]
  },
  {
   "cell_type": "code",
   "execution_count": 43,
   "metadata": {},
   "outputs": [],
   "source": [
    "def remove_html_and_patterns(text):\n",
    "    # مرحله 1: حذف تگ‌های HTML\n",
    "    soup = BeautifulSoup(text, \"html.parser\")\n",
    "    clean_text = soup.get_text()\n",
    "\n",
    "    # مرحله 2: حذف الگوهای خاص\n",
    "    patterns = [\n",
    "        r'\\b\\w*\\.png\\b',  # الگو برای *.png\n",
    "        r'\\bclass\\w*\\b',  # الگو برای class*\n",
    "        r'\\b\\w*emoji\\w*\\b'  # الگو برای *emoji*\n",
    "    ]\n",
    "    \n",
    "    for pattern in patterns:\n",
    "        clean_text = re.sub(pattern, '', clean_text)\n",
    "\n",
    "    # مرحله 3: حذف فاصله‌های اضافی\n",
    "    clean_text = ' '.join(clean_text.split())\n",
    "\n",
    "    return clean_text"
   ]
  },
  {
   "cell_type": "markdown",
   "metadata": {},
   "source": [
    "# Dive in HTML"
   ]
  },
  {
   "cell_type": "markdown",
   "metadata": {},
   "source": [
    "## Finding Things"
   ]
  },
  {
   "cell_type": "markdown",
   "metadata": {},
   "source": [
    "### is_a_super_group_open"
   ]
  },
  {
   "cell_type": "code",
   "execution_count": 44,
   "metadata": {},
   "outputs": [],
   "source": [
    "# بررسی می کند که آیا دکمه سوپر گروه باز است و درست یا غلط برمیگرداند\n",
    "def is_a_super_group_open():\n",
    "    try:\n",
    "        if(driver.find_element(By.CSS_SELECTOR, \"button.btn-icon.sidebar-close-button\").find_element(By.CSS_SELECTOR,\"span.tgico.button-icon\")):\n",
    "            return False\n",
    "    except:\n",
    "            return True"
   ]
  },
  {
   "cell_type": "markdown",
   "metadata": {},
   "source": [
    "### find_list_of_all_chats"
   ]
  },
  {
   "cell_type": "code",
   "execution_count": 45,
   "metadata": {},
   "outputs": [],
   "source": [
    "#  ساختن لیستی از کل چت های موجود    \n",
    "def find_list_of_all_chats():\n",
    "    close_super_group_button()\n",
    "    return driver.find_elements(By.CSS_SELECTOR, \"a.row.no-wrap.row-with-padding.row-clickable.hover-effect.rp.chatlist-chat.chatlist-chat-bigger.row-big\") \n"
   ]
  },
  {
   "cell_type": "markdown",
   "metadata": {},
   "source": [
    "### find_list_of_all_sub_chats"
   ]
  },
  {
   "cell_type": "code",
   "execution_count": 46,
   "metadata": {},
   "outputs": [],
   "source": [
    "#  ساختن لیستی از کل زیر چت های موجود    \n",
    "def find_list_of_all_sub_chats():\n",
    "    return driver.find_elements(By.CSS_SELECTOR,'ul.chatlist')[1] \\\n",
    "        .find_elements(By.CSS_SELECTOR,\"a.row.no-wrap.row-clickable.hover-effect.rp.chatlist-chat.chatlist-chat-bigger.row-big\")"
   ]
  },
  {
   "cell_type": "markdown",
   "metadata": {},
   "source": [
    "### find_chat_title_and_id"
   ]
  },
  {
   "cell_type": "code",
   "execution_count": 47,
   "metadata": {},
   "outputs": [],
   "source": [
    "#  یافتن عنوان و آیدی چت\n",
    "def find_chat_title_and_id(chat):\n",
    "    return [chat.find_element(By.CSS_SELECTOR,\"div.row-title.no-wrap.user-title\")\\\n",
    "                .find_element(By.CSS_SELECTOR,\"span.peer-title\")\\\n",
    "                .text ,\\\n",
    "            chat.find_element(By.CSS_SELECTOR,\"div.row-title.no-wrap.user-title\")\\\n",
    "                .find_element(By.CSS_SELECTOR,\"span.peer-title\") \\\n",
    "                .get_attribute('data-peer-id')]"
   ]
  },
  {
   "cell_type": "markdown",
   "metadata": {},
   "source": [
    "### find_sub_chat_title_and_id"
   ]
  },
  {
   "cell_type": "code",
   "execution_count": 49,
   "metadata": {},
   "outputs": [],
   "source": [
    "#  یافتن عنوان و آیدی زیرچت\n",
    "def find_sub_chat_title_and_id(chat):\n",
    "    return [chat.find_element(By.CSS_SELECTOR,\"div.row-title.no-wrap.user-title\")\\\n",
    "                .find_element(By.CSS_SELECTOR,\"span.peer-title\")\\\n",
    "                .text ,\\\n",
    "            chat.find_element(By.CSS_SELECTOR,\"div.row-title.no-wrap.user-title\")\\\n",
    "                .find_element(By.CSS_SELECTOR,\"span.peer-title\") \\\n",
    "                .get_attribute('data-peer-id')+\\\n",
    "            chat.find_element(By.CSS_SELECTOR,\"div.row-title.no-wrap.user-title\")\\\n",
    "                .find_element(By.CSS_SELECTOR,\"span.peer-title\") \\\n",
    "                .get_attribute('data-thread-id')]"
   ]
  },
  {
   "cell_type": "markdown",
   "metadata": {},
   "source": [
    "### is_there_unread_message"
   ]
  },
  {
   "cell_type": "code",
   "execution_count": 50,
   "metadata": {},
   "outputs": [],
   "source": [
    "#  چک می کند که آیا در این چت پیام خوانده نشده وجود دارد یا خیر\n",
    "def is_there_unread_message(chat):\n",
    "    try:\n",
    "        if(chat.find_element(By.CSS_SELECTOR,\"div.dialog-subtitle-badge.badge.badge-22.dialog-subtitle-badge-unread.is-visible.unread\").text):\n",
    "            return True  #  اگر این چت تگ پیام خوانده نشده داشته باشد مقدار تورو را برمگرداند وگرنه مقدار فالس را\n",
    "    except:\n",
    "        return False"
   ]
  },
  {
   "cell_type": "markdown",
   "metadata": {},
   "source": [
    "### check_if_message_is_new"
   ]
  },
  {
   "cell_type": "code",
   "execution_count": 52,
   "metadata": {},
   "outputs": [],
   "source": [
    "def check_if_message_is_new():\n",
    "    global previous_messages, chat_id, timestamp\n",
    "   \n",
    "    is_new = True # آیا آی دی گروه جدید است؟\n",
    "    for row in range(len(previous_messages)):\n",
    "        if(previous_messages[row][0] == chat_id):\n",
    "            is_new = False\n",
    "            break\n",
    "    if(is_new):\n",
    "        previous_messages.append([])\n",
    "        previous_messages[len(previous_messages) - 1].append(chat_id)\n",
    "        row += 1\n",
    "\n",
    "    for col in range(len(previous_messages[row])):\n",
    "        if (previous_messages[row][col] == timestamp):\n",
    "            return False\n",
    "    \n",
    "    previous_messages[row].append(timestamp)\n",
    "    return True"
   ]
  },
  {
   "cell_type": "markdown",
   "metadata": {},
   "source": [
    "## Do Something"
   ]
  },
  {
   "cell_type": "markdown",
   "metadata": {},
   "source": [
    "### close_super_group_button"
   ]
  },
  {
   "cell_type": "code",
   "execution_count": 53,
   "metadata": {},
   "outputs": [],
   "source": [
    "# این تابع دکمه بستن سوپر گروه ها را اگر باز شده باشند می زند تا بسته شود\n",
    "def close_super_group_button():\n",
    "        try:\n",
    "                super_group_button = driver.find_element(By.CSS_SELECTOR, \"button.btn-icon.sidebar-close-button\")\n",
    "                super_group_button.click()\n",
    "        except:\n",
    "                {}"
   ]
  },
  {
   "cell_type": "markdown",
   "metadata": {},
   "source": [
    "### scroll_down"
   ]
  },
  {
   "cell_type": "code",
   "execution_count": 54,
   "metadata": {},
   "outputs": [],
   "source": [
    "# با فراخوانی این تابع دکمه اسکرول داون در صورت وجود فشرده می شود\n",
    "def scroll_down():\n",
    "    scroll_down_button = driver.find_element(By.CSS_SELECTOR, \".btn-circle.btn-corner.z-depth-1.bubbles-corner-button.chat-secondary-button.bubbles-go-down.rp\")\n",
    "    try:\n",
    "        scroll_down_button.click()\n",
    "        time.sleep(3)\n",
    "    except:\n",
    "        {}"
   ]
  },
  {
   "cell_type": "markdown",
   "metadata": {},
   "source": [
    "# Axiliary Functions"
   ]
  },
  {
   "cell_type": "markdown",
   "metadata": {},
   "source": [
    "### warm_up"
   ]
  },
  {
   "cell_type": "code",
   "execution_count": 55,
   "metadata": {},
   "outputs": [],
   "source": [
    "def warm_up():\n",
    "    global previous_messages\n",
    "    chats = find_list_of_all_chats()\n",
    "    for chat in chats:\n",
    "        [chat_title, chat_id] = find_chat_title_and_id(chat)\n",
    "        if not(redundent_chats(chat_id)):\n",
    "            previous_messages.append([chat_id])\n",
    "            "
   ]
  },
  {
   "cell_type": "markdown",
   "metadata": {},
   "source": [
    "### redundent_chats"
   ]
  },
  {
   "cell_type": "code",
   "execution_count": 56,
   "metadata": {},
   "outputs": [],
   "source": [
    "#  چت هایی که مطمئنیم نیازی به بررسی آن ها نیست\n",
    "def redundent_chats(chat_id):\n",
    "    if chat_id in ['5427116584','-4214311773']:\n",
    "        return True\n",
    "    else:\n",
    "        return False"
   ]
  },
  {
   "cell_type": "markdown",
   "metadata": {},
   "source": [
    "### trim_rows"
   ]
  },
  {
   "cell_type": "code",
   "execution_count": 57,
   "metadata": {},
   "outputs": [],
   "source": [
    "# only keep the last message info\n",
    "def trim_rows(max_elements=50):\n",
    "    global previous_messages\n",
    "    \n",
    "    for i in range(len(previous_messages)):\n",
    "        if len(previous_messages[i]) > max_elements:\n",
    "            # حذف عناصر از عنصر دوم تا تعداد مورد نظر\n",
    "            previous_messages[i] = [previous_messages[i][0]] + previous_messages[i][len(previous_messages[i]) - max_elements + 1:]"
   ]
  },
  {
   "cell_type": "markdown",
   "metadata": {},
   "source": [
    "# Comunication"
   ]
  },
  {
   "cell_type": "markdown",
   "metadata": {},
   "source": [
    "### send_message"
   ]
  },
  {
   "cell_type": "code",
   "execution_count": 58,
   "metadata": {},
   "outputs": [],
   "source": [
    "def send_message(message):\n",
    "    hunting.click()\n",
    "    time.sleep(1)\n",
    "    input_box = driver.find_element(By.CSS_SELECTOR, 'div.input-message-input')\n",
    "    # پاک کردن هر مقدار موجود در اینپوت باکس\n",
    "    input_box.clear()  # ممکن است این متد بر روی المان‌های contenteditable کار نکند، بسته به نوع مرورگر\n",
    "    # ارسال مقدار مورد نظر به اینپوت باکس\n",
    "    input_box.send_keys(message)\n",
    "    time.sleep(2)\n",
    "    \n",
    "    send_button = driver.find_element(By.CSS_SELECTOR, 'div.btn-send-container')  #  انتخاب دکمه ارسال\n",
    "    send_button.click()\n",
    "    \n",
    "    \n",
    "    # # در صورت نیاز به ارسال اینتر در انتها\n",
    "    # time.sleep(2)\n",
    "    # input_box.send_keys(Keys.RETURN)"
   ]
  },
  {
   "cell_type": "markdown",
   "metadata": {},
   "source": [
    "### log_error"
   ]
  },
  {
   "cell_type": "code",
   "execution_count": 59,
   "metadata": {},
   "outputs": [],
   "source": [
    "def log_error(error_message):\n",
    "    caller = inspect.stack()[1]\n",
    "    try:\n",
    "        with open('error_log.txt', 'a') as file:\n",
    "            current_time = datetime.now().strftime('%Y-%m-%d %H:%M:%S')\n",
    "            file.write(f\"Time: {current_time}\\n\")\n",
    "            file.write(f\"Error in line <<< {caller.lineno} >>> of Function <<< {caller.function } >>>. \\n\")\n",
    "            file.write(f\"Error: {error_message}\\n\")\n",
    "            file.write(\"\\n\" + \"=*\"*75 + \"\\n\")\n",
    "    except Exception as e:\n",
    "        print(f\"Failed to log error: {e}\")\n"
   ]
  },
  {
   "cell_type": "markdown",
   "metadata": {},
   "source": [
    "# Main Logic"
   ]
  },
  {
   "cell_type": "markdown",
   "metadata": {},
   "source": [
    "### survey_the_chat"
   ]
  },
  {
   "cell_type": "code",
   "execution_count": 70,
   "metadata": {},
   "outputs": [],
   "source": [
    "\n",
    "        \n",
    "#  در اینجا ما برای یک چت پیام ها را بررسی می کنیم که آیا موردی که مد نظرمان باشد یافت می شود یا خیر\n",
    "def survey_the_chat(chat):\n",
    "    global sending_messages, hunting, chat_id, timestamp\n",
    "    \n",
    "    caller_function = inspect.currentframe().f_back.f_code.co_name    \n",
    "    \n",
    "    [chat_title, chat_id] = find_chat_title_and_id(chat)\n",
    "    if chat_id == '-2219036112':   # گروه هانتینگ \n",
    "        hunting = chat\n",
    "        return\n",
    "    \n",
    "    if(redundent_chats(chat_id)):\n",
    "        print('redundent chat <- <- <- ', chat_title)\n",
    "        return\n",
    "\n",
    "    if(not(is_there_unread_message(chat))):\n",
    "        return;   \n",
    "                \n",
    "    print(f'Time {datetime.now().strftime('%Y-%m-%d %H:%M:%S')} necessary chat -> -> -> ', chat_title)         \n",
    "    scroll_down()\n",
    "    converstion_list = driver.find_elements(By.CSS_SELECTOR, \"div.bubbles-group\")   # پیام هر کاربر در تگ با این کلاس هست\n",
    "    for conversation in converstion_list:\n",
    "        try:\n",
    "            user_name = remove_html_and_patterns(conversation.find_element(By.CSS_SELECTOR, \"span.peer-title\").get_attribute(\"innerHTML\"))\n",
    "            message = remove_html_and_patterns(conversation.find_element(By.CSS_SELECTOR,\"span.translatable-message\").get_attribute(\"innerHTML\"))\n",
    "            timestamp = conversation.find_element(By.CSS_SELECTOR,'.is-in').get_attribute('data-timestamp')\n",
    "            # data_peer_id = conversation.find_element(By.CSS_SELECTOR,'.is-in').get_attribute('data-peer-id')\n",
    "        except:\n",
    "            continue\n",
    "        if (check_if_message_is_new()):\n",
    "            if(text_processing(message)):\n",
    "                for_sending = f\"=== **نام گروه** ===  {chat_title}                         \\\n",
    "                            === **نام کاربر** === {user_name}                           \\\n",
    "                            ====> =====> =======> {message}\"\n",
    "                sending_messages.append(for_sending)\n",
    "                \n",
    "                            \n",
    "\n",
    "\n",
    " "
   ]
  },
  {
   "cell_type": "markdown",
   "metadata": {},
   "source": [
    "### survey_the_sub_chats"
   ]
  },
  {
   "cell_type": "code",
   "execution_count": 66,
   "metadata": {},
   "outputs": [],
   "source": [
    "def survey_the_sub_chats(mother_chat_title = 'unknown'):\n",
    "    global sending_messages, chat_id, timestamp\n",
    "    cat_chats = find_list_of_all_sub_chats()\n",
    "    for chat in cat_chats:\n",
    "        if(True): #is_there_unread_message(chat)):              \n",
    "            [sub_chat_title, chat_id] = find_sub_chat_title_and_id(chat)\n",
    "            print(f\"Time {datetime.now().strftime('%Y-%m-%d %H:%M:%S')} ================subgroup {sub_chat_title} of mother group {mother_chat_title}==========\")\n",
    "            chat_title = f\"{sub_chat_title} ({mother_chat_title})\"\n",
    "            chat.click()\n",
    "            time.sleep(2)  # کمی صبر کنید تا عملیات کلیک و هر اتفاق بعد از آن انجام شود\n",
    "            scroll_down()\n",
    "            time.sleep(1)\n",
    "            sub_converstion_list = driver.find_elements(By.CSS_SELECTOR, \"div.bubbles-group\") # پیام هر کاربر در تگ با این کلاس هست\n",
    "            for conversation in sub_converstion_list:\n",
    "                try:\n",
    "                    user_name = remove_html_and_patterns(conversation.find_element(By.CSS_SELECTOR,\"span.peer-title\").text)\n",
    "                    message = remove_html_and_patterns(conversation.find_element(By.CSS_SELECTOR,\"span.translatable-message\").text)\n",
    "                    timestamp = conversation.find_element(By.CSS_SELECTOR,'div.is-in').get_attribute('data-timestamp')\n",
    "                except Exception as e:\n",
    "                    # print(f\"**************************************Error: {e}\")\n",
    "                    continue\n",
    "                    \n",
    "                if (check_if_message_is_new()):\n",
    "                    if(text_processing(message)):\n",
    "                        for_sending = f\"=== **نام گروه** ===  {chat_title}                         \\\n",
    "                                    === **نام کاربر** === {user_name}                           \\\n",
    "                                    ====> =====> =======> {message}\"\n",
    "                        sending_messages.append(for_sending)\n",
    "    close_super_group_button()\n",
    "                    "
   ]
  },
  {
   "cell_type": "markdown",
   "metadata": {},
   "source": [
    "### once_check_all_groups"
   ]
  },
  {
   "cell_type": "code",
   "execution_count": 62,
   "metadata": {},
   "outputs": [],
   "source": [
    "def once_check_all_groups():\n",
    "    global hunting, sending_messages\n",
    "\n",
    "    chats = find_list_of_all_chats()\n",
    "    for chat in chats:\n",
    "        [chat_title, chat_id] = find_chat_title_and_id(chat)\n",
    "        chat.click()\n",
    "        time.sleep(2)\n",
    "        if  (is_a_super_group_open()):\n",
    "            survey_the_sub_chats(chat_title)        \n",
    "        else:\n",
    "            survey_the_chat(chat)          \n",
    "\n",
    "    try:\n",
    "        for message in sending_messages:\n",
    "            send_message(message)\n",
    "            time.sleep(4)\n",
    "\n",
    "        # sending_messages = []  #  ریست کردن استورج جمع آوری پیام ها      \n",
    "    except:\n",
    "        {} \n",
    "    trim_rows()  #  حذف اضافات ماتریس اطلاعات مسج های قبلی\n"
   ]
  },
  {
   "cell_type": "markdown",
   "metadata": {},
   "source": [
    "### main"
   ]
  },
  {
   "cell_type": "code",
   "execution_count": 65,
   "metadata": {},
   "outputs": [],
   "source": [
    "def main():\n",
    "    #warm_up()\n",
    "    while True:\n",
    "        once_check_all_groups()\n"
   ]
  },
  {
   "cell_type": "markdown",
   "metadata": {},
   "source": [
    "# RUNNING TIME"
   ]
  },
  {
   "cell_type": "code",
   "execution_count": 71,
   "metadata": {},
   "outputs": [
    {
     "name": "stdout",
     "output_type": "stream",
     "text": [
      "Time 2024-06-26 16:29:48 necessary chat -> -> ->  New Policy | Canada\n",
      "Time 2024-06-26 16:30:02 ================subgroup تبلیغات و معرفی مشاغل of mother group گروه ایرانیان کانادا==========\n",
      "Time 2024-06-26 16:30:06 ================subgroup معرفی گروه ایرانیان کانادا of mother group گروه ایرانیان کانادا==========\n",
      "Time 2024-06-26 16:30:10 ================subgroup کاریابی در کانادا of mother group گروه ایرانیان کانادا==========\n",
      "Time 2024-06-26 16:30:16 ================subgroup ویزای مجدد، تمدید پرمیت و PGWP of mother group گروه ایرانیان کانادا==========\n"
     ]
    }
   ],
   "source": [
    "if __name__ == \"__main__\":\n",
    "    main()"
   ]
  },
  {
   "cell_type": "markdown",
   "metadata": {},
   "source": [
    "#  تستی "
   ]
  },
  {
   "cell_type": "code",
   "execution_count": 39,
   "metadata": {},
   "outputs": [],
   "source": [
    "sending_messages=[]\n",
    "# previous_messages=[]"
   ]
  },
  {
   "cell_type": "code",
   "execution_count": 69,
   "metadata": {},
   "outputs": [
    {
     "data": {
      "text/plain": [
       "['=== **نام گروه** ===  A\\nAtlantic Program (AIP) (اقامت دائم کانادا | کاما)                                                             === **نام کاربر** === Afra Nejatinezhad                                                               ====> =====> =======> سلام میتونید وقت مشاوره با من بگیرید بهتون توضیح بدم @CanadaPrAdmin',\n",
       " '=== **نام گروه** ===  BC PNP (اقامت دائم کانادا | کاما)                                                             === **نام کاربر** === ellie                                                               ====> =====> =======> سلام مهشید جان سوالی که دارم شما در زمینه کارآفرینی بی سی هم مشاوره میدید سوالم اینه که چقدر زمان میبره و چقدر میشه روش حساب کرد درصورتی که بیس بیزینس و اینها اصولی باشه',\n",
       " '=== **نام گروه** ===  BC PNP (اقامت دائم کانادا | کاما)                                                             === **نام کاربر** === ellie                                                               ====> =====> =======> سلام مهشید جان سوالی که دارم شما در زمینه کارآفرینی بی سی هم مشاوره میدید سوالم اینه که چقدر زمان می...',\n",
       " '=== **نام گروه** ===  Alberta (AINP) (اقامت دائم کانادا | کاما)                                                             === **نام کاربر** === Reza                                                               ====> =====> =======> سلام به همه خصوصا مشاورین عزیز و تشکر از راهنماییهای ارزشمندتون، من برادرم شهرووند کانادا و تو\\u200cکلگری زندگی میکنه، من الان ۱ سال سابقه کار تخصصی در کانادا (ونکوور) دارم و از طریق CEC میتونم وارد پول بشم، امتیازم CRS با توجه به سنم و … میشه ۳۴۰. میخاستم بدونم اگر به کلگری نقل مکان بکنم امکان انتخابم با توجه داشتن خویشاوند درجه ۱ و امتیاز ۳۴۰ چقدر هست ؟',\n",
       " '=== **نام گروه** ===  Alberta (AINP) (اقامت دائم کانادا | کاما)                                                             === **نام کاربر** === Mahshid Nik                                                               ====> =====> =======> سلام به همه خصوصا مشاورین عزیز و تشکر از راهنماییهای ارزشمندتون، من برادرم شهرووند کانادا و تو\\u200cکلگری...',\n",
       " '=== **نام گروه** ===  O\\nOther Programs (اقامت دائم کانادا | کاما)                                                             === **نام کاربر** === Roi                                                               ====> =====> =======> سلام کسی میشناسیو ک مشاور باشه برای ویزا توريستی وکیل نه مشاور مهاجرت ک خودشون کانادا باشن',\n",
       " '=== **نام گروه** ===  O\\nOther Programs (اقامت دائم کانادا | کاما)                                                             === **نام کاربر** === Farzaneh zri                                                               ====> =====> =======> سلام کسی میشناسیو ک مشاور باشه برای ویزا توريستی وکیل نه مشاور مهاجرت ک خودشون کانادا باشن',\n",
       " '=== **نام گروه** ===  S\\nStart-up Program (اقامت دائم کانادا | کاما)                                                             === **نام کاربر** === A                                                               ====> =====> =======> سلام میتونید وقت مشاوره پی ار با من بگیرید تا براتون بیس مهاجرت رو توضیح بدم @CanadaPrAdmin',\n",
       " '=== **نام گروه** ===  S\\nStart-up Program (اقامت دائم کانادا | کاما)                                                             === **نام کاربر** === Mahshid Nik                                                               ====> =====> =======> ببخشید شما مشاوره کسب و کار و بیزینس هم دارید؟',\n",
       " '=== **نام گروه** ===  S\\nStart-up Program (اقامت دائم کانادا | کاما)                                                             === **نام کاربر** === Z B                                                               ====> =====> =======> سلام چطور می تونم مشاوره بگیرم ؟؟؟',\n",
       " '=== **نام گروه** ===  مونترال نامه                                                     === **نام کاربر** === Apprendre Le français                                                       ====> =====> =======> آموزش سریع و آسان زبان فرانسه توسط مدرس تحصیلکرده در پاریس و اقامت به مدت ده سال اولین و بزرگترین برگزار کننده دوره\\u200cهای مجازی آموزش زبان فرانسه برای فارسی\\u200c\\u200cزبانان *آمادگی آزمون ها *مکالمه و گرامر *ترمیک یا فشرده *مبتدی تا پیشرفته تدریس با متد معتبر بین\\u200cالمللی و با رویکرد بهره\\u200cوری بالا در کوتاه\\u200cترین مدت تمرکز بر روی هر چهار مهارت زبانی (صحبت کردن، گوش دادن، خواندن و نوشتن) تجربه سال\\u200cها برگزاری و تعلیم چندین هزار زبان\\u200cآموز ما در این دوره آموزشی از الفبای زبان فرانسه شروع می\\u200cکنیم و با استفاده از کارآمد\\u200cترین تکنیک\\u200cها و در کوتاه\\u200cترین زمان ممکن، مکالمه فرانسه را به شما می\\u200cآموزیم. برای مشاوره و تعیین سطح 09016443753 **کلاس های خصوصی بصورت آنلاین و خصوصی تشکیل میشود \\u200c. *تعیین سطح رایگان میباشد.',\n",
       " '=== **نام گروه** ===  ایرانیان کانادا-کلوپ اجتماعی اتاوا                                                     === **نام کاربر** === Faraz cargo                                                       ====> =====> =======> شرکت حمل و نقل بین المللی فراز کارگو *ارسال بار هوایی و دریایی از ایران به اقصی نقاط کانادا مونترال - تورنتو - ونکور - ادمونتون -ارسال بار لوازم شخصی و لوازم منزل -تحویل کالا از درب منزل -بسته بندی کالا -انجام تشریفات گمرکی -حمل حیوان زنده و... آدرس دفتر مرکزی: تهران، فلکه دوم صادقیه، برج گلدیس طبقه\\u200c۳ واحد۳۱۳ آدرس فرودگاه امام: فرودگاه امام خمینی ؛ پایانه هوشمند بار ایران ایر برای کسب اطلاعات بیشتر و مشاوره رایگان موبایل؛ ۰۹۱۲-۴۱۱۱۲۸۸ تلفن دفتر مرکزی: ۰۲۱-۴۴۲۰۲۵۴۳ ۰۲۱-۴۴۲۰۲۵۴۴ تلفن دفتر فرودگاه امام خمینی : ۰۲۱-۴۴۰۱۳۰۳۹ Social: Faraz.cargo']"
      ]
     },
     "execution_count": 69,
     "metadata": {},
     "output_type": "execute_result"
    }
   ],
   "source": [
    "sending_messages"
   ]
  }
 ],
 "metadata": {
  "kernelspec": {
   "display_name": "dev",
   "language": "python",
   "name": "python3"
  },
  "language_info": {
   "codemirror_mode": {
    "name": "ipython",
    "version": 3
   },
   "file_extension": ".py",
   "mimetype": "text/x-python",
   "name": "python",
   "nbconvert_exporter": "python",
   "pygments_lexer": "ipython3",
   "version": "3.12.4"
  }
 },
 "nbformat": 4,
 "nbformat_minor": 2
}
