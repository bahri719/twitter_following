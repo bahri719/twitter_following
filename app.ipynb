{
 "cells": [
  {
   "cell_type": "code",
   "execution_count": 1,
   "metadata": {},
   "outputs": [],
   "source": [
    "from selenium import webdriver\n",
    "from selenium.webdriver.common.by import By\n",
    "from selenium.webdriver.chrome.service import Service\n",
    "from selenium.webdriver.chrome.options import Options\n",
    "import time\n",
    "\n",
    "driver = webdriver.Chrome()"
   ]
  },
  {
   "cell_type": "code",
   "execution_count": 3,
   "metadata": {},
   "outputs": [],
   "source": [
    "driver.get(\"https://web.telegram.org/k/\")"
   ]
  },
  {
   "cell_type": "code",
   "execution_count": 48,
   "metadata": {},
   "outputs": [],
   "source": [
    "def text_processing(text):\n",
    "    positive_expression =['مشاور','مهاجرت',]\n",
    "    negetive_expression =['تماس بگیرید','لطفا جهت کسب اطلاعات',\n",
    "                          'خدمات ما شامل', 'لطفا جهت ثبت نام']\n",
    "    for expression in negetive_expression:\n",
    "        if expression in text:\n",
    "            return False\n",
    "        \n",
    "    for expression in positive_expression:\n",
    "        if expression in text:\n",
    "            return True\n"
   ]
  },
  {
   "cell_type": "code",
   "execution_count": 57,
   "metadata": {},
   "outputs": [
    {
     "name": "stdout",
     "output_type": "stream",
     "text": [
      "همراهان عزیز درود بر شما، سپاس از حسن اعتماد شما به موسسه مهاجرتی روادید در این گروه تمامی ا...\n",
      "/////////////////////////////////////////////////////////////////////////\n",
      "\n",
      "\n",
      "\n",
      "/////////////////////////////////////////////////////////////////////////\n",
      "\n",
      "\n",
      "\n"
     ]
    }
   ],
   "source": [
    "# finding list of all chats and press them one by one\n",
    "elements = driver.find_elements(By.CSS_SELECTOR, \".row.no-wrap.row-with-padding.row-clickable.hover-effect.rp.chatlist-chat.chatlist-chat-bigger.row-big\")\n",
    "i = 1\n",
    "for element in elements:\n",
    "    i+=1\n",
    "    try:\n",
    "        element.click()\n",
    "        time.sleep(2)  # کمی صبر کنید تا عملیات کلیک و هر اتفاق بعد از آن انجام شود\n",
    "\n",
    "        # if there is a scroll down button, press it\n",
    "        scroll_down_element = driver.find_element(By.CSS_SELECTOR, \".btn-circle.btn-corner.z-depth-1.bubbles-corner-button.chat-secondary-button.bubbles-go-down.rp\")\n",
    "        try:\n",
    "            scroll_down_element.click()\n",
    "        except:\n",
    "            {}\n",
    "\n",
    "        # finding list of all messages in a chat\n",
    "        j=0\n",
    "        message_elements = driver.find_elements(By.CSS_SELECTOR, \".translatable-message\")\n",
    "        for message in message_elements:\n",
    "            j+=1\n",
    "            try:\n",
    "                if text_processing(message.text):\n",
    "                    print (message.text)\n",
    "            except Exception as e:\n",
    "                print(f\"Could not click on element: {e}\")\n",
    "\n",
    "\n",
    "    except Exception as e:\n",
    "        print(f\"Could not click on element: {e}\")\n",
    "    if i==4:\n",
    "        break\n",
    "    print('/////////////////////////////////////////////////////////////////////////\\n\\n\\n')\n",
    "\n",
    "   "
   ]
  },
  {
   "cell_type": "code",
   "execution_count": 54,
   "metadata": {},
   "outputs": [
    {
     "ename": "StaleElementReferenceException",
     "evalue": "Message: stale element reference: stale element not found\n  (Session info: chrome=126.0.6478.62); For documentation on this error, please visit: https://www.selenium.dev/documentation/webdriver/troubleshooting/errors#stale-element-reference-exception\nStacktrace:\n\tGetHandleVerifier [0x00007FF736E63E52+31618]\n\t(No symbol) [0x00007FF736DDB0B9]\n\t(No symbol) [0x00007FF736C9888A]\n\t(No symbol) [0x00007FF736CAAF2D]\n\t(No symbol) [0x00007FF736CAB9BA]\n\t(No symbol) [0x00007FF736C9F71B]\n\t(No symbol) [0x00007FF736CAB9F8]\n\t(No symbol) [0x00007FF736C9F71B]\n\t(No symbol) [0x00007FF736C9D486]\n\t(No symbol) [0x00007FF736CA1338]\n\t(No symbol) [0x00007FF736D2D77B]\n\t(No symbol) [0x00007FF736D0D10A]\n\t(No symbol) [0x00007FF736D2CA80]\n\t(No symbol) [0x00007FF736D0CEB3]\n\t(No symbol) [0x00007FF736CDA46B]\n\t(No symbol) [0x00007FF736CDB001]\n\tGetHandleVerifier [0x00007FF73716A02D+3202397]\n\tGetHandleVerifier [0x00007FF7371B6A4D+3516285]\n\tGetHandleVerifier [0x00007FF7371AC4C0+3473904]\n\tGetHandleVerifier [0x00007FF736F15D56+760454]\n\t(No symbol) [0x00007FF736DE6B5F]\n\t(No symbol) [0x00007FF736DE1CF4]\n\t(No symbol) [0x00007FF736DE1E82]\n\t(No symbol) [0x00007FF736DD122F]\n\tBaseThreadInitThunk [0x00007FFCDCE6257D+29]\n\tRtlUserThreadStart [0x00007FFCDE00AF28+40]\n",
     "output_type": "error",
     "traceback": [
      "\u001b[1;31m---------------------------------------------------------------------------\u001b[0m",
      "\u001b[1;31mStaleElementReferenceException\u001b[0m            Traceback (most recent call last)",
      "Cell \u001b[1;32mIn[54], line 4\u001b[0m\n\u001b[0;32m      1\u001b[0m element \u001b[38;5;241m=\u001b[39m elements[\u001b[38;5;241m0\u001b[39m]\n\u001b[0;32m      3\u001b[0m \u001b[38;5;66;03m# گرفتن مقادیر href و data-peer-id\u001b[39;00m\n\u001b[1;32m----> 4\u001b[0m href_value \u001b[38;5;241m=\u001b[39m \u001b[43melement\u001b[49m\u001b[38;5;241;43m.\u001b[39;49m\u001b[43mget_attribute\u001b[49m\u001b[43m(\u001b[49m\u001b[38;5;124;43m\"\u001b[39;49m\u001b[38;5;124;43mhref\u001b[39;49m\u001b[38;5;124;43m\"\u001b[39;49m\u001b[43m)\u001b[49m\n\u001b[0;32m      5\u001b[0m data_peer_id_value \u001b[38;5;241m=\u001b[39m element\u001b[38;5;241m.\u001b[39mget_attribute(\u001b[38;5;124m\"\u001b[39m\u001b[38;5;124mdata-peer-id\u001b[39m\u001b[38;5;124m\"\u001b[39m)\n",
      "File \u001b[1;32mc:\\Users\\Ravadid Immigration\\Documents\\dev\\Lib\\site-packages\\selenium\\webdriver\\remote\\webelement.py:178\u001b[0m, in \u001b[0;36mWebElement.get_attribute\u001b[1;34m(self, name)\u001b[0m\n\u001b[0;32m    176\u001b[0m \u001b[38;5;28;01mif\u001b[39;00m getAttribute_js \u001b[38;5;129;01mis\u001b[39;00m \u001b[38;5;28;01mNone\u001b[39;00m:\n\u001b[0;32m    177\u001b[0m     _load_js()\n\u001b[1;32m--> 178\u001b[0m attribute_value \u001b[38;5;241m=\u001b[39m \u001b[38;5;28;43mself\u001b[39;49m\u001b[38;5;241;43m.\u001b[39;49m\u001b[43mparent\u001b[49m\u001b[38;5;241;43m.\u001b[39;49m\u001b[43mexecute_script\u001b[49m\u001b[43m(\u001b[49m\n\u001b[0;32m    179\u001b[0m \u001b[43m    \u001b[49m\u001b[38;5;124;43mf\u001b[39;49m\u001b[38;5;124;43m\"\u001b[39;49m\u001b[38;5;124;43m/* getAttribute */return (\u001b[39;49m\u001b[38;5;132;43;01m{\u001b[39;49;00m\u001b[43mgetAttribute_js\u001b[49m\u001b[38;5;132;43;01m}\u001b[39;49;00m\u001b[38;5;124;43m).apply(null, arguments);\u001b[39;49m\u001b[38;5;124;43m\"\u001b[39;49m\u001b[43m,\u001b[49m\u001b[43m \u001b[49m\u001b[38;5;28;43mself\u001b[39;49m\u001b[43m,\u001b[49m\u001b[43m \u001b[49m\u001b[43mname\u001b[49m\n\u001b[0;32m    180\u001b[0m \u001b[43m\u001b[49m\u001b[43m)\u001b[49m\n\u001b[0;32m    181\u001b[0m \u001b[38;5;28;01mreturn\u001b[39;00m attribute_value\n",
      "File \u001b[1;32mc:\\Users\\Ravadid Immigration\\Documents\\dev\\Lib\\site-packages\\selenium\\webdriver\\remote\\webdriver.py:407\u001b[0m, in \u001b[0;36mWebDriver.execute_script\u001b[1;34m(self, script, *args)\u001b[0m\n\u001b[0;32m    404\u001b[0m converted_args \u001b[38;5;241m=\u001b[39m \u001b[38;5;28mlist\u001b[39m(args)\n\u001b[0;32m    405\u001b[0m command \u001b[38;5;241m=\u001b[39m Command\u001b[38;5;241m.\u001b[39mW3C_EXECUTE_SCRIPT\n\u001b[1;32m--> 407\u001b[0m \u001b[38;5;28;01mreturn\u001b[39;00m \u001b[38;5;28;43mself\u001b[39;49m\u001b[38;5;241;43m.\u001b[39;49m\u001b[43mexecute\u001b[49m\u001b[43m(\u001b[49m\u001b[43mcommand\u001b[49m\u001b[43m,\u001b[49m\u001b[43m \u001b[49m\u001b[43m{\u001b[49m\u001b[38;5;124;43m\"\u001b[39;49m\u001b[38;5;124;43mscript\u001b[39;49m\u001b[38;5;124;43m\"\u001b[39;49m\u001b[43m:\u001b[49m\u001b[43m \u001b[49m\u001b[43mscript\u001b[49m\u001b[43m,\u001b[49m\u001b[43m \u001b[49m\u001b[38;5;124;43m\"\u001b[39;49m\u001b[38;5;124;43margs\u001b[39;49m\u001b[38;5;124;43m\"\u001b[39;49m\u001b[43m:\u001b[49m\u001b[43m \u001b[49m\u001b[43mconverted_args\u001b[49m\u001b[43m}\u001b[49m\u001b[43m)\u001b[49m[\u001b[38;5;124m\"\u001b[39m\u001b[38;5;124mvalue\u001b[39m\u001b[38;5;124m\"\u001b[39m]\n",
      "File \u001b[1;32mc:\\Users\\Ravadid Immigration\\Documents\\dev\\Lib\\site-packages\\selenium\\webdriver\\remote\\webdriver.py:347\u001b[0m, in \u001b[0;36mWebDriver.execute\u001b[1;34m(self, driver_command, params)\u001b[0m\n\u001b[0;32m    345\u001b[0m response \u001b[38;5;241m=\u001b[39m \u001b[38;5;28mself\u001b[39m\u001b[38;5;241m.\u001b[39mcommand_executor\u001b[38;5;241m.\u001b[39mexecute(driver_command, params)\n\u001b[0;32m    346\u001b[0m \u001b[38;5;28;01mif\u001b[39;00m response:\n\u001b[1;32m--> 347\u001b[0m     \u001b[38;5;28;43mself\u001b[39;49m\u001b[38;5;241;43m.\u001b[39;49m\u001b[43merror_handler\u001b[49m\u001b[38;5;241;43m.\u001b[39;49m\u001b[43mcheck_response\u001b[49m\u001b[43m(\u001b[49m\u001b[43mresponse\u001b[49m\u001b[43m)\u001b[49m\n\u001b[0;32m    348\u001b[0m     response[\u001b[38;5;124m\"\u001b[39m\u001b[38;5;124mvalue\u001b[39m\u001b[38;5;124m\"\u001b[39m] \u001b[38;5;241m=\u001b[39m \u001b[38;5;28mself\u001b[39m\u001b[38;5;241m.\u001b[39m_unwrap_value(response\u001b[38;5;241m.\u001b[39mget(\u001b[38;5;124m\"\u001b[39m\u001b[38;5;124mvalue\u001b[39m\u001b[38;5;124m\"\u001b[39m, \u001b[38;5;28;01mNone\u001b[39;00m))\n\u001b[0;32m    349\u001b[0m     \u001b[38;5;28;01mreturn\u001b[39;00m response\n",
      "File \u001b[1;32mc:\\Users\\Ravadid Immigration\\Documents\\dev\\Lib\\site-packages\\selenium\\webdriver\\remote\\errorhandler.py:229\u001b[0m, in \u001b[0;36mErrorHandler.check_response\u001b[1;34m(self, response)\u001b[0m\n\u001b[0;32m    227\u001b[0m         alert_text \u001b[38;5;241m=\u001b[39m value[\u001b[38;5;124m\"\u001b[39m\u001b[38;5;124malert\u001b[39m\u001b[38;5;124m\"\u001b[39m]\u001b[38;5;241m.\u001b[39mget(\u001b[38;5;124m\"\u001b[39m\u001b[38;5;124mtext\u001b[39m\u001b[38;5;124m\"\u001b[39m)\n\u001b[0;32m    228\u001b[0m     \u001b[38;5;28;01mraise\u001b[39;00m exception_class(message, screen, stacktrace, alert_text)  \u001b[38;5;66;03m# type: ignore[call-arg]  # mypy is not smart enough here\u001b[39;00m\n\u001b[1;32m--> 229\u001b[0m \u001b[38;5;28;01mraise\u001b[39;00m exception_class(message, screen, stacktrace)\n",
      "\u001b[1;31mStaleElementReferenceException\u001b[0m: Message: stale element reference: stale element not found\n  (Session info: chrome=126.0.6478.62); For documentation on this error, please visit: https://www.selenium.dev/documentation/webdriver/troubleshooting/errors#stale-element-reference-exception\nStacktrace:\n\tGetHandleVerifier [0x00007FF736E63E52+31618]\n\t(No symbol) [0x00007FF736DDB0B9]\n\t(No symbol) [0x00007FF736C9888A]\n\t(No symbol) [0x00007FF736CAAF2D]\n\t(No symbol) [0x00007FF736CAB9BA]\n\t(No symbol) [0x00007FF736C9F71B]\n\t(No symbol) [0x00007FF736CAB9F8]\n\t(No symbol) [0x00007FF736C9F71B]\n\t(No symbol) [0x00007FF736C9D486]\n\t(No symbol) [0x00007FF736CA1338]\n\t(No symbol) [0x00007FF736D2D77B]\n\t(No symbol) [0x00007FF736D0D10A]\n\t(No symbol) [0x00007FF736D2CA80]\n\t(No symbol) [0x00007FF736D0CEB3]\n\t(No symbol) [0x00007FF736CDA46B]\n\t(No symbol) [0x00007FF736CDB001]\n\tGetHandleVerifier [0x00007FF73716A02D+3202397]\n\tGetHandleVerifier [0x00007FF7371B6A4D+3516285]\n\tGetHandleVerifier [0x00007FF7371AC4C0+3473904]\n\tGetHandleVerifier [0x00007FF736F15D56+760454]\n\t(No symbol) [0x00007FF736DE6B5F]\n\t(No symbol) [0x00007FF736DE1CF4]\n\t(No symbol) [0x00007FF736DE1E82]\n\t(No symbol) [0x00007FF736DD122F]\n\tBaseThreadInitThunk [0x00007FFCDCE6257D+29]\n\tRtlUserThreadStart [0x00007FFCDE00AF28+40]\n"
     ]
    }
   ],
   "source": [
    "element = elements[0]\n",
    "\n",
    "# گرفتن مقادیر href و data-peer-id\n",
    "href_value = element.get_attribute(\"href\")\n",
    "data_peer_id_value = element.get_attribute(\"data-peer-id\")\n"
   ]
  },
  {
   "cell_type": "code",
   "execution_count": 56,
   "metadata": {},
   "outputs": [
    {
     "name": "stdout",
     "output_type": "stream",
     "text": [
      "href: https://web.telegram.org/k/#-1892019462\n",
      "data-peer-id: -1892019462\n",
      "href: https://web.telegram.org/k/#-1598697702\n",
      "data-peer-id: -1598697702\n",
      "href: https://web.telegram.org/k/#1033060325\n",
      "data-peer-id: 1033060325\n",
      "href: https://web.telegram.org/k/#-4062449071\n",
      "data-peer-id: -4062449071\n",
      "href: https://web.telegram.org/k/#-1943000458\n",
      "data-peer-id: -1943000458\n",
      "href: https://web.telegram.org/k/#-811237345\n",
      "data-peer-id: -811237345\n",
      "href: https://web.telegram.org/k/#-4071440984\n",
      "data-peer-id: -4071440984\n",
      "href: https://web.telegram.org/k/#-4110905779\n",
      "data-peer-id: -4110905779\n",
      "href: https://web.telegram.org/k/#-4261546836\n",
      "data-peer-id: -4261546836\n",
      "href: https://web.telegram.org/k/#-2003103680\n",
      "data-peer-id: -2003103680\n",
      "href: https://web.telegram.org/k/#-4088280817\n",
      "data-peer-id: -4088280817\n",
      "href: https://web.telegram.org/k/#-1423807693\n",
      "data-peer-id: -1423807693\n",
      "href: https://web.telegram.org/k/#-1862299051\n",
      "data-peer-id: -1862299051\n",
      "href: https://web.telegram.org/k/#-1653143894\n",
      "data-peer-id: -1653143894\n",
      "href: https://web.telegram.org/k/#-4058456781\n",
      "data-peer-id: -4058456781\n",
      "href: https://web.telegram.org/k/#-1817995142\n",
      "data-peer-id: -1817995142\n",
      "href: https://web.telegram.org/k/#-976917073\n",
      "data-peer-id: -976917073\n",
      "href: https://web.telegram.org/k/#-1777131719\n",
      "data-peer-id: -1777131719\n",
      "href: https://web.telegram.org/k/#-4286750309\n",
      "data-peer-id: -4286750309\n",
      "href: https://web.telegram.org/k/#-4286562202\n",
      "data-peer-id: -4286562202\n",
      "href: https://web.telegram.org/k/#5522540287\n",
      "data-peer-id: 5522540287\n",
      "href: https://web.telegram.org/k/#6978399304\n",
      "data-peer-id: 6978399304\n",
      "href: https://web.telegram.org/k/#5458245906\n",
      "data-peer-id: 5458245906\n",
      "href: https://web.telegram.org/k/#997154514\n",
      "data-peer-id: 997154514\n",
      "href: https://web.telegram.org/k/#929484883\n",
      "data-peer-id: 929484883\n",
      "href: https://web.telegram.org/k/#5427116584\n",
      "data-peer-id: 5427116584\n",
      "href: https://web.telegram.org/k/#6884463611\n",
      "data-peer-id: 6884463611\n",
      "href: https://web.telegram.org/k/#1593032689\n",
      "data-peer-id: 1593032689\n",
      "href: https://web.telegram.org/k/#5711400864\n",
      "data-peer-id: 5711400864\n",
      "href: https://web.telegram.org/k/#-1801992836\n",
      "data-peer-id: -1801992836\n"
     ]
    }
   ],
   "source": [
    "elements = driver.find_elements(By.CSS_SELECTOR, \".row.no-wrap.row-with-padding.row-clickable.hover-effect.rp.chatlist-chat.chatlist-chat-bigger.row-big\")\n",
    "\n",
    "for element in elements:\n",
    "    try:\n",
    "        href_value = element.get_attribute(\"href\")\n",
    "        data_peer_id_value = element.get_attribute(\"data-peer-id\")\n",
    "        print(f\"href: {href_value}\")\n",
    "        print(f\"data-peer-id: {data_peer_id_value}\")\n",
    "    except Exception as e:\n",
    "        print(f\"Error accessing element: {e}\")"
   ]
  }
 ],
 "metadata": {
  "kernelspec": {
   "display_name": "dev",
   "language": "python",
   "name": "python3"
  },
  "language_info": {
   "codemirror_mode": {
    "name": "ipython",
    "version": 3
   },
   "file_extension": ".py",
   "mimetype": "text/x-python",
   "name": "python",
   "nbconvert_exporter": "python",
   "pygments_lexer": "ipython3",
   "version": "3.12.4"
  }
 },
 "nbformat": 4,
 "nbformat_minor": 2
}
