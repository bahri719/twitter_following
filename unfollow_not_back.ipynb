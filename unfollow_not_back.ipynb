{
 "cells": [
  {
   "cell_type": "code",
   "execution_count": 1,
   "metadata": {},
   "outputs": [],
   "source": [
    "from selenium import webdriver\n",
    "from selenium.webdriver.common.by import By\n",
    "from selenium.webdriver import ActionChains\n",
    "from selenium.webdriver.common.keys import Keys\n",
    "from selenium.webdriver.chrome.options import Options\n",
    "from selenium.webdriver.chrome.service import Service\n",
    "from selenium.webdriver.support.ui import WebDriverWait\n",
    "from selenium.webdriver.common.action_chains import ActionChains\n",
    "from selenium.webdriver.support import expected_conditions as EC\n",
    "import random\n",
    "from bs4 import BeautifulSoup\n",
    "\n",
    "import inspect\n",
    "import re\n",
    "import time\n",
    "\n",
    "driver = webdriver.Chrome()\n",
    "driver.get(\"https://x.com/\")\n"
   ]
  },
  {
   "cell_type": "code",
   "execution_count": 2,
   "metadata": {},
   "outputs": [],
   "source": [
    "def go_to_following_page():\n",
    "    driver.get(\"https://x.com/\")\n",
    "    time.sleep(10)\n",
    "    profile = driver.find_element(By.CSS_SELECTOR, \"a[aria-label='Profile'][data-testid='AppTabBar_Profile_Link']\")\n",
    "    profile.click()\n",
    "    time.sleep(5)\n",
    "    followings = driver.find_element(By.CSS_SELECTOR, \"div.css-175oi2r.r-1rtiivn > a[href='/Mehr_mihan/following']\")\n",
    "    followings.click()\n",
    "    time.sleep(5)"
   ]
  },
  {
   "cell_type": "code",
   "execution_count": 3,
   "metadata": {},
   "outputs": [],
   "source": [
    "def go_down(n):\n",
    "    try:\n",
    "        # Create ActionChains object\n",
    "        actions = ActionChains(driver)\n",
    "\n",
    "        # Scroll down by simulating \"Page Down\" key press\n",
    "        for _ in range(n):  # Adjust the range for the number of scrolls needed\n",
    "            driver.execute_script(\"window.scrollBy(0, window.innerHeight);\")\n",
    "            time.sleep(4)  # Adjust the pause as needed to allow content to load\n",
    "\n",
    "        return True\n",
    "    except Exception as e:\n",
    "        print(e)\n",
    "        return False\n"
   ]
  },
  {
   "cell_type": "code",
   "execution_count": 4,
   "metadata": {},
   "outputs": [],
   "source": [
    "def following_list():\n",
    "    try:\n",
    "        return driver.find_elements(By.CSS_SELECTOR, \"div[data-testid='cellInnerDiv']\")\n",
    "    except:\n",
    "        return False"
   ]
  },
  {
   "cell_type": "code",
   "execution_count": 5,
   "metadata": {},
   "outputs": [],
   "source": [
    "def no_follow_back_list(list_of_followings):\n",
    "    try:\n",
    "        # List to hold items that didn't give a follow back\n",
    "        no_follow_back_list = []\n",
    "\n",
    "        # Iterate through each list item\n",
    "        for following in list_of_followings:\n",
    "            try:\n",
    "                # Try to find the \"Follows you\" indicator within the following\n",
    "                following.find_element(By.CSS_SELECTOR, \"div[data-testid='userFollowIndicator']\")\n",
    "            except:\n",
    "                # If the indicator is not found, add the following to the list\n",
    "                no_follow_back_list.append(following)\n",
    "        return no_follow_back_list\n",
    "    \n",
    "    except:\n",
    "        return False\n"
   ]
  },
  {
   "cell_type": "code",
   "execution_count": 6,
   "metadata": {},
   "outputs": [],
   "source": [
    "def unfollow_the_list(list_of_followings):\n",
    "    try:\n",
    "        list_for_unfollowing = no_follow_back_list(list_of_followings)\n",
    "        if list_for_unfollowing:\n",
    "            for item in list_for_unfollowing:\n",
    "                try:\n",
    "                    unfollow_button = item.find_element(By.CSS_SELECTOR, \"div.css-175oi2r.r-1cwvpvk > button[aria-label^='Following @'][role='button']\")\n",
    "                    driver.execute_script(\"arguments[0].scrollIntoView(true);\", unfollow_button)\n",
    "                    time.sleep(2)  # Optional: Add a small delay to ensure the element is in view\n",
    "                    # Click the button using JavaScript\n",
    "                    driver.execute_script(\"arguments[0].click();\", unfollow_button)\n",
    "                    time.sleep(2)\n",
    "                    confirm_unfollow = driver.find_element(By.CSS_SELECTOR, \"button.css-175oi2r[data-testid='confirmationSheetConfirm'][role='button']\")\n",
    "                    confirm_unfollow.click()\n",
    "                    time.sleep(random.randint(2, 10))\n",
    "                except:\n",
    "                    continue\n",
    "        return True\n",
    "    except:\n",
    "        return False"
   ]
  },
  {
   "cell_type": "code",
   "execution_count": 7,
   "metadata": {},
   "outputs": [],
   "source": [
    "def is_the_true_page():\n",
    "    try:\n",
    "        driver.find_element(By.CSS_SELECTOR, \"div.css-175oi2r.r-14tvyh0.r-cpa5s6.r-16y2uox > a[href='/Mehr_mihan/verified_followers'][role='tab']\")\n",
    "        driver.find_element(By.CSS_SELECTOR, \"div.css-175oi2r.r-14tvyh0.r-cpa5s6.r-16y2uox > a[href='/Mehr_mihan/followers'][role='tab']\")\n",
    "        driver.find_element(By.CSS_SELECTOR, \"div.css-175oi2r.r-14tvyh0.r-cpa5s6.r-16y2uox > a[href='/Mehr_mihan/following'][role='tab'][aria-selected='true']\")\n",
    "        return True\n",
    "    except:\n",
    "        return False"
   ]
  },
  {
   "cell_type": "code",
   "execution_count": 10,
   "metadata": {},
   "outputs": [],
   "source": [
    "def main():\n",
    "    try:\n",
    "        if not is_the_true_page():\n",
    "            go_to_following_page()\n",
    "            go_down(50)\n",
    "            \n",
    "        go_down(1)            \n",
    "        list_of_followings = following_list()\n",
    "        if unfollow_the_list(list_of_followings):\n",
    "            return True\n",
    "        else:\n",
    "            return False\n",
    "        \n",
    "    except:\n",
    "        return False"
   ]
  },
  {
   "cell_type": "code",
   "execution_count": 11,
   "metadata": {},
   "outputs": [
    {
     "ename": "KeyboardInterrupt",
     "evalue": "",
     "output_type": "error",
     "traceback": [
      "\u001b[1;31m---------------------------------------------------------------------------\u001b[0m",
      "\u001b[1;31mKeyboardInterrupt\u001b[0m                         Traceback (most recent call last)",
      "Cell \u001b[1;32mIn[11], line 10\u001b[0m\n\u001b[0;32m      8\u001b[0m \u001b[38;5;28;01melse\u001b[39;00m:\n\u001b[0;32m      9\u001b[0m     driver\u001b[38;5;241m.\u001b[39mrefresh()\n\u001b[1;32m---> 10\u001b[0m     \u001b[43mgo_to_following_page\u001b[49m\u001b[43m(\u001b[49m\u001b[43m)\u001b[49m\n\u001b[0;32m     11\u001b[0m     go_down(\u001b[38;5;241m50\u001b[39m)\n",
      "Cell \u001b[1;32mIn[2], line 6\u001b[0m, in \u001b[0;36mgo_to_following_page\u001b[1;34m()\u001b[0m\n\u001b[0;32m      4\u001b[0m profile \u001b[38;5;241m=\u001b[39m driver\u001b[38;5;241m.\u001b[39mfind_element(By\u001b[38;5;241m.\u001b[39mCSS_SELECTOR, \u001b[38;5;124m\"\u001b[39m\u001b[38;5;124ma[aria-label=\u001b[39m\u001b[38;5;124m'\u001b[39m\u001b[38;5;124mProfile\u001b[39m\u001b[38;5;124m'\u001b[39m\u001b[38;5;124m][data-testid=\u001b[39m\u001b[38;5;124m'\u001b[39m\u001b[38;5;124mAppTabBar_Profile_Link\u001b[39m\u001b[38;5;124m'\u001b[39m\u001b[38;5;124m]\u001b[39m\u001b[38;5;124m\"\u001b[39m)\n\u001b[0;32m      5\u001b[0m profile\u001b[38;5;241m.\u001b[39mclick()\n\u001b[1;32m----> 6\u001b[0m \u001b[43mtime\u001b[49m\u001b[38;5;241;43m.\u001b[39;49m\u001b[43msleep\u001b[49m\u001b[43m(\u001b[49m\u001b[38;5;241;43m5\u001b[39;49m\u001b[43m)\u001b[49m\n\u001b[0;32m      7\u001b[0m followings \u001b[38;5;241m=\u001b[39m driver\u001b[38;5;241m.\u001b[39mfind_element(By\u001b[38;5;241m.\u001b[39mCSS_SELECTOR, \u001b[38;5;124m\"\u001b[39m\u001b[38;5;124mdiv.css-175oi2r.r-1rtiivn > a[href=\u001b[39m\u001b[38;5;124m'\u001b[39m\u001b[38;5;124m/Mehr_mihan/following\u001b[39m\u001b[38;5;124m'\u001b[39m\u001b[38;5;124m]\u001b[39m\u001b[38;5;124m\"\u001b[39m)\n\u001b[0;32m      8\u001b[0m followings\u001b[38;5;241m.\u001b[39mclick()\n",
      "\u001b[1;31mKeyboardInterrupt\u001b[0m: "
     ]
    }
   ],
   "source": [
    "if __name__ == '__main__':\n",
    "    go_to_following_page()\n",
    "    go_down(50)\n",
    "    \n",
    "    while True:\n",
    "        if main():\n",
    "            time.sleep(5)\n",
    "        else:\n",
    "            driver.refresh()\n",
    "            go_to_following_page()\n",
    "            go_down(50)"
   ]
  }
 ],
 "metadata": {
  "kernelspec": {
   "display_name": "dev",
   "language": "python",
   "name": "python3"
  },
  "language_info": {
   "codemirror_mode": {
    "name": "ipython",
    "version": 3
   },
   "file_extension": ".py",
   "mimetype": "text/x-python",
   "name": "python",
   "nbconvert_exporter": "python",
   "pygments_lexer": "ipython3",
   "version": "3.11.4"
  }
 },
 "nbformat": 4,
 "nbformat_minor": 2
}
