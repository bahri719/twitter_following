{
 "cells": [
  {
   "cell_type": "code",
   "execution_count": 1,
   "metadata": {},
   "outputs": [
    {
     "name": "stderr",
     "output_type": "stream",
     "text": [
      "The chromedriver version (126.0.6478.62) detected in PATH at chromedriver.EXE might not be compatible with the detected chrome version (127.0.6533.122); currently, chromedriver 127.0.6533.119 is recommended for chrome 127.*, so it is advised to delete the driver in PATH and retry\n"
     ]
    }
   ],
   "source": [
    "import time\n",
    "import random\n",
    "import sqlite3\n",
    "from selenium import webdriver\n",
    "from selenium.webdriver.common.by import By\n",
    "from selenium.webdriver import ActionChains\n",
    "# from selenium.webdriver.common.keys import Keys\n",
    "# from selenium.webdriver.chrome.options import Options\n",
    "# from selenium.webdriver.chrome.service import Service\n",
    "# from selenium.webdriver.support.ui import WebDriverWait\n",
    "from selenium.webdriver.common.action_chains import ActionChains\n",
    "# from selenium.webdriver.support import expected_conditions as EC\n",
    "\n",
    "driver = webdriver.Chrome()\n",
    "driver.get(\"https://x.com/\")"
   ]
  },
  {
   "cell_type": "code",
   "execution_count": 39,
   "metadata": {},
   "outputs": [],
   "source": [
    "def go_to_following_page():\n",
    "    if is_the_true_page():\n",
    "        return True\n",
    "    \n",
    "    driver.get(\"https://x.com/\")\n",
    "    time.sleep(10)\n",
    "    profile = driver.find_element(By.CSS_SELECTOR, \"a[aria-label='Profile'][data-testid='AppTabBar_Profile_Link']\")\n",
    "    profile.click()\n",
    "    time.sleep(5)\n",
    "    followings = driver.find_element(By.CSS_SELECTOR, \"div.css-175oi2r.r-1rtiivn > a[href='/Mehr_mihan/following']\")\n",
    "    followings.click()\n",
    "    time.sleep(5)"
   ]
  },
  {
   "cell_type": "code",
   "execution_count": 3,
   "metadata": {},
   "outputs": [],
   "source": [
    "def go_down(n):\n",
    "    try:\n",
    "        # Create ActionChains object\n",
    "        actions = ActionChains(driver)\n",
    "\n",
    "        # Scroll down by simulating \"Page Down\" key press\n",
    "        for _ in range(n):  # Adjust the range for the number of scrolls needed\n",
    "            driver.execute_script(\"window.scrollBy(0, window.innerHeight);\")\n",
    "            time.sleep(4)  # Adjust the pause as needed to allow content to load\n",
    "\n",
    "        return True\n",
    "    except Exception as e:\n",
    "        print(e)\n",
    "        return False\n"
   ]
  },
  {
   "cell_type": "code",
   "execution_count": 4,
   "metadata": {},
   "outputs": [],
   "source": [
    "def following_list():\n",
    "    try:\n",
    "        return driver.find_elements(By.CSS_SELECTOR, \"div[data-testid='cellInnerDiv']\")\n",
    "    except:\n",
    "        return False"
   ]
  },
  {
   "cell_type": "code",
   "execution_count": 5,
   "metadata": {},
   "outputs": [],
   "source": [
    "def insert_user_name_to_table(text):\n",
    "    conn = sqlite3.connect('following.db')\n",
    "    cursor = conn.cursor()\n",
    "    \n",
    "    # Check if the text already exists in the table\n",
    "    cursor.execute('''\n",
    "    SELECT COUNT(*)\n",
    "    FROM following_table\n",
    "    WHERE user_name = ?\n",
    "    ''', (text,))\n",
    "    \n",
    "    # Fetch the result\n",
    "    count = cursor.fetchone()[0]    \n",
    "    \n",
    "    # If count is 0, the text does not exist, so insert it\n",
    "    if count == 0:    \n",
    "        cursor.execute('''\n",
    "        INSERT INTO following_table (user_name)\n",
    "        VALUES (?)\n",
    "        ''', (text,))\n",
    "        conn.commit()\n",
    "        conn.close()"
   ]
  },
  {
   "cell_type": "code",
   "execution_count": 6,
   "metadata": {},
   "outputs": [],
   "source": [
    "def delete_user_name_from_table(text):\n",
    "    # Connect to SQLite database\n",
    "    conn = sqlite3.connect('following.db')\n",
    "    \n",
    "    # Create a cursor object using the cursor() method\n",
    "    cursor = conn.cursor()\n",
    "    \n",
    "    # SQL command to delete the text from the table\n",
    "    cursor.execute('''\n",
    "    DELETE FROM following_table\n",
    "    WHERE user_name = ?\n",
    "    ''', (text,))\n",
    "    \n",
    "    # Check if any row was deleted\n",
    "    if cursor.rowcount == 0:\n",
    "        print(f\"Text '{text}' does not exist in the table.\")\n",
    "    else:\n",
    "        print(f\"Text '{text}' deleted successfully.\")\n",
    "    \n",
    "    # Commit the changes\n",
    "    conn.commit()\n",
    "    \n",
    "    # Close the connection\n",
    "    conn.close()\n"
   ]
  },
  {
   "cell_type": "code",
   "execution_count": 7,
   "metadata": {},
   "outputs": [],
   "source": [
    "def count_table_records():\n",
    "    # Connect to SQLite database\n",
    "    conn = sqlite3.connect('following.db')\n",
    "    \n",
    "    # Create a cursor object using the cursor() method\n",
    "    cursor = conn.cursor()\n",
    "    \n",
    "    # SQL command to delete the text from the table\n",
    "    cursor.execute('SELECT COUNT(*) FROM following_table')\n",
    "    \n",
    "        # Fetch the result\n",
    "    count = cursor.fetchone()[0]\n",
    "\n",
    "    # Close the connection\n",
    "    conn.close()\n",
    "    \n",
    "    # Return the count\n",
    "    return count"
   ]
  },
  {
   "cell_type": "code",
   "execution_count": 18,
   "metadata": {},
   "outputs": [],
   "source": [
    "def no_follow_back_list(list_of_followings):\n",
    "    if not (is_the_true_page()):\n",
    "        return False\n",
    "    \n",
    "    try:\n",
    "        # List to hold items that didn't give a follow back\n",
    "        no_follow_back_list = []\n",
    "\n",
    "        # Iterate through each list item\n",
    "        for following in list_of_followings:\n",
    "            try:\n",
    "                # Try to find the \"Follows you\" indicator within the following\n",
    "                following.find_element(By.CSS_SELECTOR, \"div[data-testid='userFollowIndicator']\")\n",
    "                user_name = following.find_element(By.CSS_SELECTOR, \"a.css-175oi2r.r-1wbh5a2.r-dnmrzs.r-1ny4l3l.r-1loqt21\").get_attribute(\"href\")\n",
    "                insert_user_name_to_table(user_name)\n",
    "            except:\n",
    "                # If the indicator is not found, add the following to the list\n",
    "                no_follow_back_list.append(following)\n",
    "        return no_follow_back_list\n",
    "    \n",
    "    except:\n",
    "        return False\n"
   ]
  },
  {
   "cell_type": "code",
   "execution_count": 19,
   "metadata": {},
   "outputs": [],
   "source": [
    "def unfollow_the_list(list_of_followings):\n",
    "    try:\n",
    "        list_for_unfollowing = no_follow_back_list(list_of_followings)\n",
    "        if list_for_unfollowing:\n",
    "            for item in list_for_unfollowing:\n",
    "                try:\n",
    "                    unfollow_button = item.find_element(By.CSS_SELECTOR, \"div.css-175oi2r.r-1cwvpvk > button[aria-label^='Following @'][role='button']\")\n",
    "                    driver.execute_script(\"arguments[0].scrollIntoView(true);\", unfollow_button)\n",
    "                    time.sleep(2)  # Optional: Add a small delay to ensure the element is in view\n",
    "                    # Click the button using JavaScript\n",
    "                    driver.execute_script(\"arguments[0].click();\", unfollow_button)\n",
    "                    time.sleep(2)\n",
    "                    confirm_unfollow = driver.find_element(By.CSS_SELECTOR, \"button.css-175oi2r[data-testid='confirmationSheetConfirm'][role='button']\")\n",
    "                    confirm_unfollow.click()\n",
    "                    time.sleep(random.randint(2, 10))\n",
    "                except:\n",
    "                    continue\n",
    "        return True\n",
    "    except:\n",
    "        return False"
   ]
  },
  {
   "cell_type": "code",
   "execution_count": 20,
   "metadata": {},
   "outputs": [],
   "source": [
    "def is_the_true_page():\n",
    "    try:\n",
    "        driver.find_element(By.CSS_SELECTOR, \"div.css-175oi2r.r-14tvyh0.r-cpa5s6.r-16y2uox > a[href='/Mehr_mihan/verified_followers'][role='tab']\")\n",
    "        driver.find_element(By.CSS_SELECTOR, \"div.css-175oi2r.r-14tvyh0.r-cpa5s6.r-16y2uox > a[href='/Mehr_mihan/followers'][role='tab']\")\n",
    "        driver.find_element(By.CSS_SELECTOR, \"div.css-175oi2r.r-14tvyh0.r-cpa5s6.r-16y2uox > a[href='/Mehr_mihan/following'][role='tab'][aria-selected='true']\")\n",
    "        return True\n",
    "    except:\n",
    "        return False"
   ]
  },
  {
   "cell_type": "code",
   "execution_count": 38,
   "metadata": {},
   "outputs": [],
   "source": [
    "def check_local_limitation_rate():\n",
    "    try:\n",
    "        element = driver.find_element(By.XPATH, \"//*[text()='local_rate_limited']\")\n",
    "        return True\n",
    "    except:\n",
    "        pass\n",
    "\n",
    "    try:\n",
    "        button = driver.find_element(By.XPATH, \"//button[.//span[text()='Retry']]\")\n",
    "        return True\n",
    "    except:\n",
    "        pass\n",
    "\n",
    "    try:\n",
    "        span_element = driver.find_element(By.XPATH, \"//span[text()='Something went wrong. Try reloading.']\")\n",
    "        return True\n",
    "    except:\n",
    "        pass\n",
    "\n",
    "    return False"
   ]
  },
  {
   "cell_type": "code",
   "execution_count": 21,
   "metadata": {},
   "outputs": [],
   "source": [
    "def main():\n",
    "    try:\n",
    "        if not is_the_true_page():\n",
    "            go_to_following_page()\n",
    "            \n",
    "        go_down(1)            \n",
    "        list_of_followings = following_list()\n",
    "        if unfollow_the_list(list_of_followings):\n",
    "            return True\n",
    "        else:\n",
    "            return False\n",
    "        \n",
    "    except:\n",
    "        return False"
   ]
  },
  {
   "cell_type": "code",
   "execution_count": null,
   "metadata": {},
   "outputs": [],
   "source": [
    "if __name__ == '__main__':\n",
    "    time.sleep(120)\n",
    "    go_to_following_page()\n",
    "    \n",
    "    while True:\n",
    "        if check_local_limitation_rate():\n",
    "            time.sleep(30 * 60)\n",
    "            driver.refresh()\n",
    "            continue\n",
    "                \n",
    "        if main():\n",
    "            time.sleep(60)\n",
    "        else:\n",
    "            time.sleep(60)\n",
    "            driver.refresh()\n",
    "            go_to_following_page()"
   ]
  }
 ],
 "metadata": {
  "kernelspec": {
   "display_name": "dev",
   "language": "python",
   "name": "python3"
  },
  "language_info": {
   "codemirror_mode": {
    "name": "ipython",
    "version": 3
   },
   "file_extension": ".py",
   "mimetype": "text/x-python",
   "name": "python",
   "nbconvert_exporter": "python",
   "pygments_lexer": "ipython3",
   "version": "3.11.4"
  }
 },
 "nbformat": 4,
 "nbformat_minor": 2
}
