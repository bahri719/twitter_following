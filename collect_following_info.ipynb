{
 "cells": [
  {
   "cell_type": "code",
   "execution_count": 1,
   "metadata": {},
   "outputs": [],
   "source": [
    "from selenium import webdriver\n",
    "from selenium.webdriver.common.by import By\n",
    "from selenium.webdriver import ActionChains\n",
    "from selenium.webdriver.common.keys import Keys\n",
    "from selenium.webdriver.chrome.options import Options\n",
    "from selenium.webdriver.chrome.service import Service\n",
    "from selenium.webdriver.support.ui import WebDriverWait\n",
    "from selenium.webdriver.common.action_chains import ActionChains\n",
    "from selenium.webdriver.support import expected_conditions as EC\n",
    "import random\n",
    "from bs4 import BeautifulSoup\n",
    "import sqlite3\n",
    "import inspect\n",
    "import re\n",
    "import time\n",
    "\n",
    "driver = webdriver.Chrome()\n",
    "driver.get(\"https://x.com/\")\n"
   ]
  },
  {
   "cell_type": "code",
   "execution_count": 2,
   "metadata": {},
   "outputs": [],
   "source": [
    "def go_to_following_page():\n",
    "    driver.get(\"https://x.com/\")\n",
    "    time.sleep(10)\n",
    "    profile = driver.find_element(By.CSS_SELECTOR, \"a[aria-label='Profile'][data-testid='AppTabBar_Profile_Link']\")\n",
    "    profile.click()\n",
    "    time.sleep(5)\n",
    "    followings = driver.find_element(By.CSS_SELECTOR, \"div.css-175oi2r.r-1rtiivn > a[href='/Mehr_mihan/following']\")\n",
    "    followings.click()\n",
    "    time.sleep(5)"
   ]
  },
  {
   "cell_type": "code",
   "execution_count": 3,
   "metadata": {},
   "outputs": [],
   "source": [
    "def go_down(n):\n",
    "    try:\n",
    "        # Create ActionChains object\n",
    "        actions = ActionChains(driver)\n",
    "\n",
    "        # Scroll down by simulating \"Page Down\" key press\n",
    "        for _ in range(n):  # Adjust the range for the number of scrolls needed\n",
    "            driver.execute_script(\"window.scrollBy(0, window.innerHeight);\")\n",
    "            time.sleep(4)  # Adjust the pause as needed to allow content to load\n",
    "\n",
    "        return True\n",
    "    except Exception as e:\n",
    "        print(e)\n",
    "        return False\n"
   ]
  },
  {
   "cell_type": "code",
   "execution_count": 4,
   "metadata": {},
   "outputs": [],
   "source": [
    "def following_list():\n",
    "    try:\n",
    "        return driver.find_elements(By.CSS_SELECTOR, \"div[data-testid='cellInnerDiv']\")\n",
    "    except:\n",
    "        return False"
   ]
  },
  {
   "cell_type": "code",
   "execution_count": 5,
   "metadata": {},
   "outputs": [],
   "source": [
    "def insert_user_name_to_table(text):\n",
    "    conn = sqlite3.connect('following.db')\n",
    "    cursor = conn.cursor()\n",
    "    \n",
    "    # Check if the text already exists in the table\n",
    "    cursor.execute('''\n",
    "    SELECT COUNT(*)\n",
    "    FROM following_table\n",
    "    WHERE user_name = ?\n",
    "    ''', (text,))\n",
    "    \n",
    "    # Fetch the result\n",
    "    count = cursor.fetchone()[0]    \n",
    "    \n",
    "    # If count is 0, the text does not exist, so insert it\n",
    "    if count == 0:    \n",
    "        cursor.execute('''\n",
    "        INSERT INTO following_table (user_name)\n",
    "        VALUES (?)\n",
    "        ''', (text,))\n",
    "        conn.commit()\n",
    "        conn.close()"
   ]
  },
  {
   "cell_type": "code",
   "execution_count": 6,
   "metadata": {},
   "outputs": [],
   "source": [
    "def delete_user_name_from_table(text):\n",
    "    # Connect to SQLite database\n",
    "    conn = sqlite3.connect('following.db')\n",
    "    \n",
    "    # Create a cursor object using the cursor() method\n",
    "    cursor = conn.cursor()\n",
    "    \n",
    "    # SQL command to delete the text from the table\n",
    "    cursor.execute('''\n",
    "    DELETE FROM following_table\n",
    "    WHERE user_name = ?\n",
    "    ''', (text,))\n",
    "    \n",
    "    # Check if any row was deleted\n",
    "    if cursor.rowcount == 0:\n",
    "        print(f\"Text '{text}' does not exist in the table.\")\n",
    "    else:\n",
    "        print(f\"Text '{text}' deleted successfully.\")\n",
    "    \n",
    "    # Commit the changes\n",
    "    conn.commit()\n",
    "    \n",
    "    # Close the connection\n",
    "    conn.close()\n"
   ]
  },
  {
   "cell_type": "code",
   "execution_count": 7,
   "metadata": {},
   "outputs": [
    {
     "name": "stdout",
     "output_type": "stream",
     "text": [
      "The number of records in the table is: 0\n"
     ]
    }
   ],
   "source": [
    "import sqlite3\n",
    "\n",
    "def count_table_records():\n",
    "    # Connect to SQLite database\n",
    "    conn = sqlite3.connect('following.db')\n",
    "    \n",
    "    # Create a cursor object using the cursor() method\n",
    "    cursor = conn.cursor()\n",
    "    \n",
    "    # SQL command to delete the text from the table\n",
    "    cursor.execute('SELECT COUNT(*) FROM following_table')\n",
    "    \n",
    "        # Fetch the result\n",
    "    count = cursor.fetchone()[0]\n",
    "\n",
    "    # Close the connection\n",
    "    conn.close()\n",
    "    \n",
    "    # Return the count\n",
    "    return count\n",
    "\n",
    "# Example usage\n",
    "record_count = count_table_records()\n",
    "print(f\"The number of records in the table is: {record_count}\")"
   ]
  },
  {
   "cell_type": "code",
   "execution_count": 8,
   "metadata": {},
   "outputs": [],
   "source": [
    "def add_user_name_of_following_to_db(list_of_followings):\n",
    "    try:\n",
    "        # Iterate through each list item\n",
    "        for following in list_of_followings:\n",
    "            try:\n",
    "                user_name = following.find_element(By.CSS_SELECTOR, \"a.css-175oi2r.r-1wbh5a2.r-dnmrzs.r-1ny4l3l.r-1loqt21\").get_attribute(\"href\")\n",
    "                insert_user_name_to_table(user_name)\n",
    "            except:\n",
    "                {}\n",
    "        return True\n",
    "    except:\n",
    "        return False\n"
   ]
  },
  {
   "cell_type": "code",
   "execution_count": 9,
   "metadata": {},
   "outputs": [],
   "source": [
    "def is_the_true_page():\n",
    "    try:\n",
    "        driver.find_element(By.CSS_SELECTOR, \"div.css-175oi2r.r-14tvyh0.r-cpa5s6.r-16y2uox > a[href='/Mehr_mihan/verified_followers'][role='tab']\")\n",
    "        driver.find_element(By.CSS_SELECTOR, \"div.css-175oi2r.r-14tvyh0.r-cpa5s6.r-16y2uox > a[href='/Mehr_mihan/followers'][role='tab']\")\n",
    "        driver.find_element(By.CSS_SELECTOR, \"div.css-175oi2r.r-14tvyh0.r-cpa5s6.r-16y2uox > a[href='/Mehr_mihan/following'][role='tab'][aria-selected='true']\")\n",
    "        return True\n",
    "    except:\n",
    "        return False"
   ]
  },
  {
   "cell_type": "code",
   "execution_count": 10,
   "metadata": {},
   "outputs": [],
   "source": [
    "def collect_all_use_name_of_following():\n",
    "    try:\n",
    "        if not is_the_true_page():\n",
    "            go_to_following_page()\n",
    "\n",
    "        go_down(1)            \n",
    "        list_of_followings = following_list()\n",
    "        if add_user_name_of_following_to_db(list_of_followings):\n",
    "            return True\n",
    "        else:\n",
    "            return False\n",
    "        \n",
    "    except:\n",
    "        return False"
   ]
  },
  {
   "cell_type": "code",
   "execution_count": 11,
   "metadata": {},
   "outputs": [],
   "source": [
    "if __name__ == '__main__':\n",
    "    go_to_following_page()\n",
    "    \n",
    "    while True:\n",
    "        if collect_all_use_name_of_following():\n",
    "            time.sleep(5)\n",
    "        else:\n",
    "            driver.refresh()\n",
    "            go_to_following_page()"
   ]
  }
 ],
 "metadata": {
  "kernelspec": {
   "display_name": "dev",
   "language": "python",
   "name": "python3"
  },
  "language_info": {
   "codemirror_mode": {
    "name": "ipython",
    "version": 3
   },
   "file_extension": ".py",
   "mimetype": "text/x-python",
   "name": "python",
   "nbconvert_exporter": "python",
   "pygments_lexer": "ipython3",
   "version": "3.11.4"
  }
 },
 "nbformat": 4,
 "nbformat_minor": 2
}
