{
 "cells": [
  {
   "cell_type": "code",
   "execution_count": 110,
   "metadata": {},
   "outputs": [],
   "source": [
    "from selenium import webdriver\n",
    "from selenium.webdriver.common.by import By\n",
    "from selenium.webdriver.chrome.service import Service\n",
    "from selenium.webdriver import ActionChains\n",
    "from selenium.webdriver.support.ui import WebDriverWait\n",
    "from selenium.webdriver.support import expected_conditions as EC\n",
    "\n",
    "from selenium.webdriver.chrome.options import Options\n",
    "from selenium.webdriver.common.keys import Keys\n",
    "from bs4 import BeautifulSoup\n",
    "\n",
    "import inspect\n",
    "import re\n",
    "import time\n",
    "\n",
    "driver = webdriver.Chrome()\n",
    "driver.get(\"https://x.com/\")\n"
   ]
  },
  {
   "cell_type": "code",
   "execution_count": 225,
   "metadata": {},
   "outputs": [],
   "source": [
    "#  پیدا کردن و کلیک کردن تب تویفیکیشن\n",
    "def press_notification_tab():\n",
    "    notification_tab = driver.find_element(By.CSS_SELECTOR, \"a[href='/notifications']\")\n",
    "    click(notification_tab)"
   ]
  },
  {
   "cell_type": "code",
   "execution_count": 112,
   "metadata": {},
   "outputs": [],
   "source": [
    "def was_the_notifications_loaded(wait_time = 20):\n",
    "    try:\n",
    "        # منتظر ماندن تا یک عنصر خاص به طور کامل بارگذاری شود\n",
    "        element = WebDriverWait(driver, wait_time).until(\n",
    "            EC.presence_of_element_located((By.CSS_SELECTOR, \"div.css-175oi2r[data-testid='cellInnerDiv']\"))\n",
    "        )\n",
    "        return True\n",
    "    except:\n",
    "        print(\"Loading took too much time!\")\n",
    "        return False"
   ]
  },
  {
   "cell_type": "code",
   "execution_count": 113,
   "metadata": {},
   "outputs": [],
   "source": [
    "def was_the_my_post_loaded(wait_time = 20):\n",
    "    try:\n",
    "        # Construct the CSS selector string based on the classes and style\n",
    "        css_selector = \"div.css-146c3p1.r-bcqeeo.r-1ttztb7.r-qvutc0.r-37j5jr.r-a023e6.r-rjixqe.r-16dba41[style='text-overflow: unset; color: rgb(113, 118, 123);']\"\n",
    "\n",
    "        element = WebDriverWait(driver, 10).until(\n",
    "            EC.presence_of_element_located((By.CSS_SELECTOR, css_selector))\n",
    "        )\n",
    "        return True\n",
    "    except:\n",
    "        print(\"Loading took too much time!\")\n",
    "        return False"
   ]
  },
  {
   "cell_type": "code",
   "execution_count": null,
   "metadata": {},
   "outputs": [],
   "source": [
    "# وقتی در پروفایل کاربر هستیم چک می کند که این کاربر مییوت هست یا خیر\n",
    "#  اگر مییوت باشد درست وگرنه غلط را بر میگرداند\n",
    "def is_muted():\n",
    "    try:\n",
    "        unmute_button = driver.find_element(By.XPATH, \"//button[.//span[text()='Unmute']]\")\n",
    "        return True\n",
    "    except:\n",
    "        return False"
   ]
  },
  {
   "cell_type": "code",
   "execution_count": 222,
   "metadata": {},
   "outputs": [],
   "source": [
    "#  بررسی می کنیم اگر قبلا این کاربر را مییوت نکرده ایم او را فالوو می کنیم\n",
    "def if_user_is_unmute_press_follow_button():\n",
    "    sw = False\n",
    "    if not(is_muted()):\n",
    "        follow_button = driver.find_element(By.XPATH, \"//button[.//span[text()='Follow']]\")\n",
    "        click(follow_button)\n",
    "        sw = True\n",
    "    back_button = driver.find_element(By.CSS_SELECTOR, \"button[aria-label='Back']\")\n",
    "    click(back_button)\n",
    "    return sw  #  نشان میدهد کی فالوو انجام شد یا نشد"
   ]
  },
  {
   "cell_type": "code",
   "execution_count": 238,
   "metadata": {},
   "outputs": [],
   "source": [
    "back_button = driver.find_element(By.CSS_SELECTOR, \"button[aria-label='Back']\")\n",
    "click(back_button)"
   ]
  },
  {
   "cell_type": "code",
   "execution_count": 228,
   "metadata": {},
   "outputs": [],
   "source": [
    "#  بررسی می کنیم اگر قبلا این کاربر را مییوت نکرده ایم او را فالوو می کنیم\n",
    "def check_and_follow_if_everything_is_ok():\n",
    "    driver.execute_script(\"window.scrollTo(0, 0);\")\n",
    "    unfollower_interactions = driver.find_elements(By.XPATH, \"//div[@class='css-175oi2r' and @data-testid='cellInnerDiv' and .//button[.//span[text()='Follow']]]\")\n",
    "    if(len(unfollower_interactions) > 0):\n",
    "        click(unfollower_interactions[0])\n",
    "        return if_user_is_unmute_press_follow_button()"
   ]
  },
  {
   "cell_type": "code",
   "execution_count": 241,
   "metadata": {},
   "outputs": [],
   "source": [
    "def click(item):\n",
    "    item.click()\n",
    "    time.sleep(3)"
   ]
  },
  {
   "cell_type": "code",
   "execution_count": 253,
   "metadata": {},
   "outputs": [],
   "source": [
    "def main():\n",
    "    press_notification_tab()\n",
    "    #  اسکرول آپ کردن به ابتدای نتیفیکیشن ها\n",
    "    driver.execute_script(\"window.scrollTo(0, 0);\")\n",
    "\n",
    "    if(was_the_notifications_loaded()):\n",
    "        notifications = driver.find_elements(By.CSS_SELECTOR, \"div.css-175oi2r[data-testid='cellInnerDiv']\")\n",
    "        find_sw = False\n",
    "        for index, notification in enumerate(notifications):\n",
    "            article = notification.find_element(By.TAG_NAME, \"article\")\n",
    "            if not(\"r-1eltapf\" in article.get_attribute(\"class\")):\n",
    "                break    #   یعنی به یک نوتیفیکشن غیر هایلایت رسیده ایم و باید کار را متوقف کنیم\n",
    "                \n",
    "            if index >10:\n",
    "                break\n",
    "            discription = notification.find_element(By.CSS_SELECTOR, \"div.css-146c3p1.r-bcqeeo.r-1ttztb7.r-qvutc0.r-37j5jr.r-a023e6.r-rjixqe.r-16dba41.r-1udh08x\")\n",
    "            # print(index, ' - ', discription.text[-9:])\n",
    "            if (discription.text[-9:] == \"your post\" or discription.text[-10:] == \"your reply\"):\n",
    "                find_sw = True\n",
    "                break\n",
    "        if(find_sw):\n",
    "            click(notification)\n",
    "            analyticsButton = driver.find_element(By.CSS_SELECTOR, \"[data-testid='analyticsButton']\")\n",
    "            click(analyticsButton)\n",
    "            \n",
    "            sw_find_new_follower = True\n",
    "            while (sw_find_new_follower):\n",
    "                sw_find_new_follower = False\n",
    "\n",
    "                repostTab = driver.find_element(By.XPATH, \"//a[@role='tab' and .//span[text()='Reposts']]\")\n",
    "                click(repostTab)\n",
    "                if check_and_follow_if_everything_is_ok():\n",
    "                    sw_find_new_follower = True\n",
    "                    \n",
    "            sw_find_new_follower = True\n",
    "            while (sw_find_new_follower):\n",
    "                sw_find_new_follower = False\n",
    "                    \n",
    "                likeTab = driver.find_element(By.XPATH, \"//a[@role='tab' and .//span[text()='Likes']]\")\n",
    "                click(likeTab)\n",
    "                if check_and_follow_if_everything_is_ok():\n",
    "                    sw_find_new_follower = True\n",
    "        \n",
    "        else: #  اگر هیچ عنصری برای لایک یا ریتوییتی وجود نداشته باشد\n",
    "            driver.refresh()\n",
    "            time.sleep(60)\n",
    "            press_notification_tab()\n",
    "    else:  # رفع مشکل اینکه صفحه لود نشود\n",
    "        driver.refresh()\n",
    "        time.sleep(20)\n",
    "        press_notification_tab()"
   ]
  },
  {
   "cell_type": "code",
   "execution_count": 257,
   "metadata": {},
   "outputs": [],
   "source": [
    "if __name__ == '__main__':\n",
    "    while True:\n",
    "        main()\n",
    "        time.sleep(5)"
   ]
  }
 ],
 "metadata": {
  "kernelspec": {
   "display_name": "dev",
   "language": "python",
   "name": "python3"
  },
  "language_info": {
   "codemirror_mode": {
    "name": "ipython",
    "version": 3
   },
   "file_extension": ".py",
   "mimetype": "text/x-python",
   "name": "python",
   "nbconvert_exporter": "python",
   "pygments_lexer": "ipython3",
   "version": "3.11.4"
  }
 },
 "nbformat": 4,
 "nbformat_minor": 2
}
