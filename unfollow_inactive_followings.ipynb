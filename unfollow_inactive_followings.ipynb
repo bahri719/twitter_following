{
 "cells": [
  {
   "cell_type": "code",
   "execution_count": 36,
   "metadata": {},
   "outputs": [],
   "source": [
    "from selenium import webdriver\n",
    "from selenium.webdriver.common.by import By\n",
    "from selenium.webdriver import ActionChains\n",
    "from selenium.webdriver.common.keys import Keys\n",
    "from selenium.webdriver.chrome.options import Options\n",
    "from selenium.webdriver.chrome.service import Service\n",
    "from selenium.webdriver.support.ui import WebDriverWait\n",
    "from selenium.webdriver.common.action_chains import ActionChains\n",
    "from selenium.webdriver.support import expected_conditions as EC\n",
    "import random\n",
    "from bs4 import BeautifulSoup\n",
    "import sqlite3\n",
    "import inspect\n",
    "import re\n",
    "import time\n",
    "from datetime import datetime\n",
    "\n",
    "driver = webdriver.Chrome()\n",
    "driver.get(\"https://x.com/\")\n",
    "\n",
    "for_unfollow = []"
   ]
  },
  {
   "cell_type": "code",
   "execution_count": 17,
   "metadata": {},
   "outputs": [],
   "source": [
    "def days_to_now(specific_date_str):\n",
    "    specific_date = datetime.strptime(specific_date_str, \"%Y-%m-%dT%H:%M:%S.%fZ\")\n",
    "    current_date = datetime.now()\n",
    "    difference = current_date - specific_date\n",
    "    days_difference = difference.days\n",
    "    return days_difference"
   ]
  },
  {
   "cell_type": "code",
   "execution_count": 18,
   "metadata": {},
   "outputs": [],
   "source": [
    "def record_count():\n",
    "    with sqlite3.connect('following.db') as connection:\n",
    "        cursor = connection.cursor()\n",
    "        try:\n",
    "            cursor.execute(\"SELECT COUNT(*) FROM following_table\")\n",
    "            count = cursor.fetchone()[0]\n",
    "        finally:\n",
    "            cursor.close()\n",
    "    return count"
   ]
  },
  {
   "cell_type": "code",
   "execution_count": 19,
   "metadata": {},
   "outputs": [],
   "source": [
    "def get_record_at_position(n):\n",
    "    with sqlite3.connect('following.db') as connection:\n",
    "        cursor = connection.cursor()\n",
    "        try:\n",
    "            query = \"SELECT user_name FROM following_table LIMIT 1 OFFSET ?\"\n",
    "            cursor.execute(query, (n - 1,))\n",
    "            record = cursor.fetchone()\n",
    "            if record:\n",
    "                {}\n",
    "            else:\n",
    "                return False\n",
    "        finally:\n",
    "            cursor.close()\n",
    "    return record[0]"
   ]
  },
  {
   "cell_type": "code",
   "execution_count": 20,
   "metadata": {},
   "outputs": [],
   "source": [
    "def delete_record_at_position(n):\n",
    "    with sqlite3.connect('following.db') as connection:\n",
    "        cursor = connection.cursor()\n",
    "        try:\n",
    "            fetch_query = \"SELECT rowid FROM following_table LIMIT 1 OFFSET ?\"\n",
    "            cursor.execute(fetch_query, (n - 1,))\n",
    "            record = cursor.fetchone()\n",
    "            if record:\n",
    "                delete_query = \"DELETE FROM following_table WHERE rowid = ?\"\n",
    "                cursor.execute(delete_query, (record[0],))\n",
    "                connection.commit()\n",
    "            else:\n",
    "                return False\n",
    "        finally:\n",
    "            cursor.close()\n",
    "    return True"
   ]
  },
  {
   "cell_type": "code",
   "execution_count": 21,
   "metadata": {},
   "outputs": [],
   "source": [
    "def is_inactive(user_link, treshold = 150):\n",
    "    driver.get(user_link + '/with_replies')\n",
    "    time.sleep(10)\n",
    "    elements = driver.find_elements(By.TAG_NAME, 'time')\n",
    "    tweet_times = set()\n",
    "    for element in elements:\n",
    "        try:\n",
    "            datetime_value = element.get_attribute('datetime')\n",
    "            tweet_times.add(days_to_now(datetime_value))\n",
    "        except:\n",
    "            pass\n",
    "    latest_tweet = min(tweet_times)\n",
    "    if (latest_tweet > treshold):\n",
    "        return True\n",
    "    else:\n",
    "        return False"
   ]
  },
  {
   "cell_type": "code",
   "execution_count": 27,
   "metadata": {},
   "outputs": [],
   "source": [
    "def do_unfollow():\n",
    "    try:\n",
    "        wait = WebDriverWait(driver, random.randint(10, 20))\n",
    "        unfollow_button = wait.until(\n",
    "            EC.presence_of_element_located((By.XPATH, \"//button[contains(., 'Following')]\"))\n",
    "        )\n",
    "        driver.execute_script(\"arguments[0].scrollIntoView(true);\", unfollow_button)\n",
    "        time.sleep(5)  # Optional: Add a small delay to ensure the element is in view\n",
    "        # Click the button using JavaScript\n",
    "        driver.execute_script(\"arguments[0].click();\", unfollow_button)\n",
    "        time.sleep(3)\n",
    "        confirm_unfollow = driver.find_element(By.CSS_SELECTOR, \"button.css-175oi2r[data-testid='confirmationSheetConfirm'][role='button']\")\n",
    "        confirm_unfollow.click()\n",
    "        time.sleep(random.randint(120, 240))\n",
    "        return True\n",
    "    except:\n",
    "        return False"
   ]
  },
  {
   "cell_type": "code",
   "execution_count": 23,
   "metadata": {},
   "outputs": [],
   "source": [
    "def sleep_time(i):\n",
    "    if i % 10 == 0:\n",
    "        return (random.randint(600, 1200))  # 15 minutes\n",
    "    elif i % 5 == 0:\n",
    "        return (random.randint(150, 480))  # 5 minutes\n",
    "    else:\n",
    "        return (random.randint(60, 120))  # 1 minute"
   ]
  },
  {
   "cell_type": "code",
   "execution_count": 37,
   "metadata": {},
   "outputs": [],
   "source": [
    "def do_unfollow_all_inactive_followings():\n",
    "    num_deleted_items = 0\n",
    "    itration = 0\n",
    "    while itration < record_count():\n",
    "        itration += 1\n",
    "        user_link = get_record_at_position(itration)\n",
    "        user_name = user_link.split('/')[-1]\n",
    "        try:\n",
    "            if(is_inactive(user_link)):\n",
    "                do_unfollow()\n",
    "                num_deleted_items += 1\n",
    "                print(num_deleted_items, ' - ', user_name,  '  following was deleted! *************')\n",
    "            else:\n",
    "                print(itration, ' - ', user_name, '  is active.')\n",
    "        except:\n",
    "            pass\n",
    "        time.sleep(sleep_time(itration))\n",
    "    print('num_deleted_items  =  ', num_deleted_items)\n",
    " "
   ]
  },
  {
   "cell_type": "code",
   "execution_count": 38,
   "metadata": {},
   "outputs": [
    {
     "name": "stdout",
     "output_type": "stream",
     "text": [
      "1  -  mamankia   is active.\n",
      "2  -  Farzad6613297   is active.\n"
     ]
    }
   ],
   "source": [
    "do_unfollow_all_inactive_followings()"
   ]
  }
 ],
 "metadata": {
  "kernelspec": {
   "display_name": "dev",
   "language": "python",
   "name": "python3"
  },
  "language_info": {
   "codemirror_mode": {
    "name": "ipython",
    "version": 3
   },
   "file_extension": ".py",
   "mimetype": "text/x-python",
   "name": "python",
   "nbconvert_exporter": "python",
   "pygments_lexer": "ipython3",
   "version": "3.11.4"
  }
 },
 "nbformat": 4,
 "nbformat_minor": 2
}
